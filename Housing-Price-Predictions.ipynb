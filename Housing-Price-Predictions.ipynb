{
 "cells": [
  {
   "cell_type": "markdown",
   "metadata": {},
   "source": [
    "# Introduction\n",
    "\n",
    "In this notebook I explained how to tackle a machine learning from the beginning to the end, at the example of predicting housing prices. It covers a lot of tool & techniques, that are common in the machine learning landscape.\n",
    "\n",
    "After reading it, you will know everything you need, to build your own regression system. I got everything I cover in this notebook from the book \"Hands-On Machine Learning with Scikit_learn & Tensorflow\" from Aurelien Geron. I used the California Housing Dataset from the statlib repository.\n",
    "\n",
    "If you just want to have a quick look at what I did and what I've learned throughout writing this notebook, you can just read the [summary](#Summary) at the very end.  \n",
    "\n",
    "\n",
    "\n",
    "## Table of Contents:\n",
    "\n",
    "- [Import Libraries](#importo) \n",
    "    \n",
    "- [California housing Dataset](#data)\n",
    "\n",
    "- [Big Picture](#bigp)\n",
    "\n",
    "- [Train/Test Split](#split)\n",
    "\n",
    "- [Extensive Data Exploration](#explo)\n",
    "    -  [Searching for Correlations](#corre)\n",
    "    \n",
    "    \n",
    "\n",
    "\n",
    "- [Data Preparation](#prep)\n",
    "    - [How to process Categorical Attributes and Text](#categ)\n",
    "    - [Custom transfer](#custom) \n",
    "    - [Feature Scaling](#scale)\n",
    "    - [Pipelines for tranformation](#pipe)\n",
    "    \n",
    "    \n",
    "        \n",
    "- [Train Models](#train)\n",
    "\n",
    "- [Fine Tuning](#tune)\n",
    "\n",
    "- [Evaluation](#evaluation)\n",
    "\n",
    "- [Summary](#summary)"
   ]
  },
  {
   "cell_type": "markdown",
   "metadata": {},
   "source": [
    "<a id='importo'></a>"
   ]
  },
  {
   "cell_type": "markdown",
   "metadata": {},
   "source": [
    "# Import Libraries"
   ]
  },
  {
   "cell_type": "markdown",
   "metadata": {},
   "source": [
    "<a id='import'></a>"
   ]
  },
  {
   "cell_type": "code",
   "execution_count": 1,
   "metadata": {
    "_cell_guid": "872b0186-0c2c-41f8-8183-2804ee5a7e7d",
    "_uuid": "320de3a5d061657e16529fde48ec12317519e900",
    "collapsed": true
   },
   "outputs": [],
   "source": [
    "# Common imports\n",
    "import pandas as pd\n",
    "import numpy as np\n",
    "\n",
    "# data visualization\n",
    "import matplotlib.pyplot as plt\n",
    "from sklearn.model_selection import train_test_split\n",
    "\n",
    "# random seed to make output stable across runs\n",
    "np.random.seed(42)\n",
    "\n",
    "# data visualization\n",
    "%matplotlib inline\n",
    "import matplotlib\n",
    "import matplotlib.pyplot as plt\n",
    "plt.rcParams['axes.labelsize'] = 14\n",
    "plt.rcParams['xtick.labelsize'] = 12\n",
    "plt.rcParams['ytick.labelsize'] = 12"
   ]
  },
  {
   "cell_type": "markdown",
   "metadata": {},
   "source": [
    "<a id='data'></a>"
   ]
  },
  {
   "cell_type": "markdown",
   "metadata": {
    "_cell_guid": "1458144a-cf17-4964-9454-55631f3833fb",
    "_uuid": "58a79c8848e62fcdcfbba9780d0d23c9e6893e3b"
   },
   "source": [
    "# **California housing Dataset**\n",
    "\n",
    "The dataset we will use is the \"California Housing Prices\" dataset from the statlib repository, which is based on data from the 1990 census. This dataset offers great opportunities for learning. The prediciton task for this dataset wil be to predict housing prices based on several features."
   ]
  },
  {
   "cell_type": "markdown",
   "metadata": {},
   "source": [
    "### Get the data:"
   ]
  },
  {
   "cell_type": "code",
   "execution_count": 2,
   "metadata": {
    "collapsed": true
   },
   "outputs": [],
   "source": [
    "import os\n",
    "import tarfile\n",
    "from six.moves import urllib\n",
    "\n",
    "root = \"https://raw.githubusercontent.com/ageron/handson-ml/master/\"\n",
    "path = os.path.join(\"datasets\", \"housing\")\n",
    "source = root + \"datasets/housing/housing.tgz\"\n",
    "\n",
    "def fetch_housing_data(housing_url=source, path=path):\n",
    "    if not os.path.isdir(path):\n",
    "        os.makedirs(path)\n",
    "    tgz_path = os.path.join(path, \"housing.tgz\")\n",
    "    urllib.request.urlretrieve(housing_url, tgz_path)\n",
    "    housing_tgz = tarfile.open(tgz_path)\n",
    "    housing_tgz.extractall(path=path)\n",
    "    housing_tgz.close()"
   ]
  },
  {
   "cell_type": "code",
   "execution_count": 3,
   "metadata": {
    "collapsed": true
   },
   "outputs": [],
   "source": [
    "fetch_housing_data()"
   ]
  },
  {
   "cell_type": "code",
   "execution_count": 4,
   "metadata": {
    "collapsed": true
   },
   "outputs": [],
   "source": [
    "import pandas as pd\n",
    "\n",
    "def load_data(housing_path=path):\n",
    "    csv = os.path.join(housing_path, \"housing.csv\")\n",
    "    return pd.read_csv(csv)"
   ]
  },
  {
   "cell_type": "markdown",
   "metadata": {},
   "source": [
    "<a id='bigpop'></a>"
   ]
  },
  {
   "cell_type": "markdown",
   "metadata": {},
   "source": [
    "# Big Picture\n",
    "\n",
    "You are asked to build a machine learning model that predicts the median house value for a given \"district\". This data has metrics like population, median income, median housing price for each block group in califorania. Block groups are smallest geographical unit for which the US Census Bureu publishes data. I will just call them \"districts\" for now.\n",
    "\n",
    "Frame the problem:\n",
    "\n",
    "Is it supervised, unsupervised or reinforcement learning ? Is it a classification task, a regression task or something different ? \n",
    "Our problem is clearly a supervised learning task, because you have labeled input data. It is also clearly a regression task since you have to predict a numeric value. "
   ]
  },
  {
   "cell_type": "code",
   "execution_count": 5,
   "metadata": {
    "_cell_guid": "b931c2d4-d061-4755-a778-50d2d25c7cd5",
    "_uuid": "d5703416fad1ee2662fae3a120d72aeef6edaa7d"
   },
   "outputs": [
    {
     "data": {
      "text/html": [
       "<div>\n",
       "<style>\n",
       "    .dataframe thead tr:only-child th {\n",
       "        text-align: right;\n",
       "    }\n",
       "\n",
       "    .dataframe thead th {\n",
       "        text-align: left;\n",
       "    }\n",
       "\n",
       "    .dataframe tbody tr th {\n",
       "        vertical-align: top;\n",
       "    }\n",
       "</style>\n",
       "<table border=\"1\" class=\"dataframe\">\n",
       "  <thead>\n",
       "    <tr style=\"text-align: right;\">\n",
       "      <th></th>\n",
       "      <th>longitude</th>\n",
       "      <th>latitude</th>\n",
       "      <th>housing_median_age</th>\n",
       "      <th>total_rooms</th>\n",
       "      <th>total_bedrooms</th>\n",
       "      <th>population</th>\n",
       "      <th>households</th>\n",
       "      <th>median_income</th>\n",
       "      <th>median_house_value</th>\n",
       "      <th>ocean_proximity</th>\n",
       "    </tr>\n",
       "  </thead>\n",
       "  <tbody>\n",
       "    <tr>\n",
       "      <th>0</th>\n",
       "      <td>-122.23</td>\n",
       "      <td>37.88</td>\n",
       "      <td>41.0</td>\n",
       "      <td>880.0</td>\n",
       "      <td>129.0</td>\n",
       "      <td>322.0</td>\n",
       "      <td>126.0</td>\n",
       "      <td>8.3252</td>\n",
       "      <td>452600.0</td>\n",
       "      <td>NEAR BAY</td>\n",
       "    </tr>\n",
       "    <tr>\n",
       "      <th>1</th>\n",
       "      <td>-122.22</td>\n",
       "      <td>37.86</td>\n",
       "      <td>21.0</td>\n",
       "      <td>7099.0</td>\n",
       "      <td>1106.0</td>\n",
       "      <td>2401.0</td>\n",
       "      <td>1138.0</td>\n",
       "      <td>8.3014</td>\n",
       "      <td>358500.0</td>\n",
       "      <td>NEAR BAY</td>\n",
       "    </tr>\n",
       "    <tr>\n",
       "      <th>2</th>\n",
       "      <td>-122.24</td>\n",
       "      <td>37.85</td>\n",
       "      <td>52.0</td>\n",
       "      <td>1467.0</td>\n",
       "      <td>190.0</td>\n",
       "      <td>496.0</td>\n",
       "      <td>177.0</td>\n",
       "      <td>7.2574</td>\n",
       "      <td>352100.0</td>\n",
       "      <td>NEAR BAY</td>\n",
       "    </tr>\n",
       "    <tr>\n",
       "      <th>3</th>\n",
       "      <td>-122.25</td>\n",
       "      <td>37.85</td>\n",
       "      <td>52.0</td>\n",
       "      <td>1274.0</td>\n",
       "      <td>235.0</td>\n",
       "      <td>558.0</td>\n",
       "      <td>219.0</td>\n",
       "      <td>5.6431</td>\n",
       "      <td>341300.0</td>\n",
       "      <td>NEAR BAY</td>\n",
       "    </tr>\n",
       "    <tr>\n",
       "      <th>4</th>\n",
       "      <td>-122.25</td>\n",
       "      <td>37.85</td>\n",
       "      <td>52.0</td>\n",
       "      <td>1627.0</td>\n",
       "      <td>280.0</td>\n",
       "      <td>565.0</td>\n",
       "      <td>259.0</td>\n",
       "      <td>3.8462</td>\n",
       "      <td>342200.0</td>\n",
       "      <td>NEAR BAY</td>\n",
       "    </tr>\n",
       "  </tbody>\n",
       "</table>\n",
       "</div>"
      ],
      "text/plain": [
       "   longitude  latitude  housing_median_age  total_rooms  total_bedrooms  \\\n",
       "0    -122.23     37.88                41.0        880.0           129.0   \n",
       "1    -122.22     37.86                21.0       7099.0          1106.0   \n",
       "2    -122.24     37.85                52.0       1467.0           190.0   \n",
       "3    -122.25     37.85                52.0       1274.0           235.0   \n",
       "4    -122.25     37.85                52.0       1627.0           280.0   \n",
       "\n",
       "   population  households  median_income  median_house_value ocean_proximity  \n",
       "0       322.0       126.0         8.3252            452600.0        NEAR BAY  \n",
       "1      2401.0      1138.0         8.3014            358500.0        NEAR BAY  \n",
       "2       496.0       177.0         7.2574            352100.0        NEAR BAY  \n",
       "3       558.0       219.0         5.6431            341300.0        NEAR BAY  \n",
       "4       565.0       259.0         3.8462            342200.0        NEAR BAY  "
      ]
     },
     "execution_count": 5,
     "metadata": {},
     "output_type": "execute_result"
    }
   ],
   "source": [
    "housing = load_data()\n",
    "housing.head()"
   ]
  },
  {
   "cell_type": "markdown",
   "metadata": {
    "_cell_guid": "163c2889-2e14-49e2-9e24-22378be91933",
    "_uuid": "414836f4bebac63df7f781a53496d384e493f4f7"
   },
   "source": [
    "Above you can see the top 5 rows of the dataset with the \"head()\" method. \n",
    "\n",
    "Each row  represents one district. The dataset has 10 attributes: longitude, latitude, housing_median_age, total_rooms, total_bedrooms, population, households, median_income, median_house_value and ocean_proximity."
   ]
  },
  {
   "cell_type": "code",
   "execution_count": 6,
   "metadata": {
    "_cell_guid": "b358bf1a-dda4-4a78-8f3e-151a5fba654a",
    "_uuid": "de323020d946366a847f11e994ee5c0f7cb60ee3"
   },
   "outputs": [
    {
     "name": "stdout",
     "output_type": "stream",
     "text": [
      "<class 'pandas.core.frame.DataFrame'>\n",
      "RangeIndex: 20640 entries, 0 to 20639\n",
      "Data columns (total 10 columns):\n",
      "longitude             20640 non-null float64\n",
      "latitude              20640 non-null float64\n",
      "housing_median_age    20640 non-null float64\n",
      "total_rooms           20640 non-null float64\n",
      "total_bedrooms        20433 non-null float64\n",
      "population            20640 non-null float64\n",
      "households            20640 non-null float64\n",
      "median_income         20640 non-null float64\n",
      "median_house_value    20640 non-null float64\n",
      "ocean_proximity       20640 non-null object\n",
      "dtypes: float64(9), object(1)\n",
      "memory usage: 1.6+ MB\n"
     ]
    }
   ],
   "source": [
    "housing.info()"
   ]
  },
  {
   "cell_type": "markdown",
   "metadata": {
    "_cell_guid": "7c590fa9-5623-4475-bfcd-8b9ef0d737f8",
    "_uuid": "6aaeb407a71ab6608b4b60a6aa751d145908e5c9"
   },
   "source": [
    "Now you can see a brief description of the data using the \"info()\" method above.\n",
    "\n",
    "Notice that there are 20,640 instances (entries) in the whole dataset. Also notice that the total_bedrooms attribute has only 20,433 non-null values which means that 207 districts don't have this feature. You can also see that ocean_proximity is not numerical and probably a categorical attribute. You can find out how many districts belong to each attribute by using the \"value_counts()\" method, which I used below."
   ]
  },
  {
   "cell_type": "code",
   "execution_count": 7,
   "metadata": {
    "_cell_guid": "3e014e14-f988-454a-945c-0ea0e5a19656",
    "_uuid": "083715a4c86ac5c09fd2def17e74e6e8c5db6a70"
   },
   "outputs": [
    {
     "data": {
      "text/plain": [
       "<1H OCEAN     9136\n",
       "INLAND        6551\n",
       "NEAR OCEAN    2658\n",
       "NEAR BAY      2290\n",
       "ISLAND           5\n",
       "Name: ocean_proximity, dtype: int64"
      ]
     },
     "execution_count": 7,
     "metadata": {},
     "output_type": "execute_result"
    }
   ],
   "source": [
    "housing[\"ocean_proximity\"].value_counts()"
   ]
  },
  {
   "cell_type": "markdown",
   "metadata": {
    "_cell_guid": "e9c09c3b-c881-4a7e-8bb7-d87a88d25f46",
    "_uuid": "8f897e5bb3228e78a61feb20c77a48b2437c6f8b"
   },
   "source": [
    "Now I will use the \"describe()\" method to show a summary of the numerical attributes:"
   ]
  },
  {
   "cell_type": "code",
   "execution_count": 8,
   "metadata": {
    "_cell_guid": "f8ccf747-dc71-4690-bbda-5fb9d0e7aefd",
    "_uuid": "9f50c3e7fbe4b846ff8109b85628321b4675462b"
   },
   "outputs": [
    {
     "data": {
      "text/html": [
       "<div>\n",
       "<style>\n",
       "    .dataframe thead tr:only-child th {\n",
       "        text-align: right;\n",
       "    }\n",
       "\n",
       "    .dataframe thead th {\n",
       "        text-align: left;\n",
       "    }\n",
       "\n",
       "    .dataframe tbody tr th {\n",
       "        vertical-align: top;\n",
       "    }\n",
       "</style>\n",
       "<table border=\"1\" class=\"dataframe\">\n",
       "  <thead>\n",
       "    <tr style=\"text-align: right;\">\n",
       "      <th></th>\n",
       "      <th>longitude</th>\n",
       "      <th>latitude</th>\n",
       "      <th>housing_median_age</th>\n",
       "      <th>total_rooms</th>\n",
       "      <th>total_bedrooms</th>\n",
       "      <th>population</th>\n",
       "      <th>households</th>\n",
       "      <th>median_income</th>\n",
       "      <th>median_house_value</th>\n",
       "    </tr>\n",
       "  </thead>\n",
       "  <tbody>\n",
       "    <tr>\n",
       "      <th>count</th>\n",
       "      <td>20640.000000</td>\n",
       "      <td>20640.000000</td>\n",
       "      <td>20640.000000</td>\n",
       "      <td>20640.000000</td>\n",
       "      <td>20433.000000</td>\n",
       "      <td>20640.000000</td>\n",
       "      <td>20640.000000</td>\n",
       "      <td>20640.000000</td>\n",
       "      <td>20640.000000</td>\n",
       "    </tr>\n",
       "    <tr>\n",
       "      <th>mean</th>\n",
       "      <td>-119.569704</td>\n",
       "      <td>35.631861</td>\n",
       "      <td>28.639486</td>\n",
       "      <td>2635.763081</td>\n",
       "      <td>537.870553</td>\n",
       "      <td>1425.476744</td>\n",
       "      <td>499.539680</td>\n",
       "      <td>3.870671</td>\n",
       "      <td>206855.816909</td>\n",
       "    </tr>\n",
       "    <tr>\n",
       "      <th>std</th>\n",
       "      <td>2.003532</td>\n",
       "      <td>2.135952</td>\n",
       "      <td>12.585558</td>\n",
       "      <td>2181.615252</td>\n",
       "      <td>421.385070</td>\n",
       "      <td>1132.462122</td>\n",
       "      <td>382.329753</td>\n",
       "      <td>1.899822</td>\n",
       "      <td>115395.615874</td>\n",
       "    </tr>\n",
       "    <tr>\n",
       "      <th>min</th>\n",
       "      <td>-124.350000</td>\n",
       "      <td>32.540000</td>\n",
       "      <td>1.000000</td>\n",
       "      <td>2.000000</td>\n",
       "      <td>1.000000</td>\n",
       "      <td>3.000000</td>\n",
       "      <td>1.000000</td>\n",
       "      <td>0.499900</td>\n",
       "      <td>14999.000000</td>\n",
       "    </tr>\n",
       "    <tr>\n",
       "      <th>25%</th>\n",
       "      <td>-121.800000</td>\n",
       "      <td>33.930000</td>\n",
       "      <td>18.000000</td>\n",
       "      <td>1447.750000</td>\n",
       "      <td>296.000000</td>\n",
       "      <td>787.000000</td>\n",
       "      <td>280.000000</td>\n",
       "      <td>2.563400</td>\n",
       "      <td>119600.000000</td>\n",
       "    </tr>\n",
       "    <tr>\n",
       "      <th>50%</th>\n",
       "      <td>-118.490000</td>\n",
       "      <td>34.260000</td>\n",
       "      <td>29.000000</td>\n",
       "      <td>2127.000000</td>\n",
       "      <td>435.000000</td>\n",
       "      <td>1166.000000</td>\n",
       "      <td>409.000000</td>\n",
       "      <td>3.534800</td>\n",
       "      <td>179700.000000</td>\n",
       "    </tr>\n",
       "    <tr>\n",
       "      <th>75%</th>\n",
       "      <td>-118.010000</td>\n",
       "      <td>37.710000</td>\n",
       "      <td>37.000000</td>\n",
       "      <td>3148.000000</td>\n",
       "      <td>647.000000</td>\n",
       "      <td>1725.000000</td>\n",
       "      <td>605.000000</td>\n",
       "      <td>4.743250</td>\n",
       "      <td>264725.000000</td>\n",
       "    </tr>\n",
       "    <tr>\n",
       "      <th>max</th>\n",
       "      <td>-114.310000</td>\n",
       "      <td>41.950000</td>\n",
       "      <td>52.000000</td>\n",
       "      <td>39320.000000</td>\n",
       "      <td>6445.000000</td>\n",
       "      <td>35682.000000</td>\n",
       "      <td>6082.000000</td>\n",
       "      <td>15.000100</td>\n",
       "      <td>500001.000000</td>\n",
       "    </tr>\n",
       "  </tbody>\n",
       "</table>\n",
       "</div>"
      ],
      "text/plain": [
       "          longitude      latitude  housing_median_age   total_rooms  \\\n",
       "count  20640.000000  20640.000000        20640.000000  20640.000000   \n",
       "mean    -119.569704     35.631861           28.639486   2635.763081   \n",
       "std        2.003532      2.135952           12.585558   2181.615252   \n",
       "min     -124.350000     32.540000            1.000000      2.000000   \n",
       "25%     -121.800000     33.930000           18.000000   1447.750000   \n",
       "50%     -118.490000     34.260000           29.000000   2127.000000   \n",
       "75%     -118.010000     37.710000           37.000000   3148.000000   \n",
       "max     -114.310000     41.950000           52.000000  39320.000000   \n",
       "\n",
       "       total_bedrooms    population    households  median_income  \\\n",
       "count    20433.000000  20640.000000  20640.000000   20640.000000   \n",
       "mean       537.870553   1425.476744    499.539680       3.870671   \n",
       "std        421.385070   1132.462122    382.329753       1.899822   \n",
       "min          1.000000      3.000000      1.000000       0.499900   \n",
       "25%        296.000000    787.000000    280.000000       2.563400   \n",
       "50%        435.000000   1166.000000    409.000000       3.534800   \n",
       "75%        647.000000   1725.000000    605.000000       4.743250   \n",
       "max       6445.000000  35682.000000   6082.000000      15.000100   \n",
       "\n",
       "       median_house_value  \n",
       "count        20640.000000  \n",
       "mean        206855.816909  \n",
       "std         115395.615874  \n",
       "min          14999.000000  \n",
       "25%         119600.000000  \n",
       "50%         179700.000000  \n",
       "75%         264725.000000  \n",
       "max         500001.000000  "
      ]
     },
     "execution_count": 8,
     "metadata": {},
     "output_type": "execute_result"
    }
   ],
   "source": [
    "housing.describe()"
   ]
  },
  {
   "cell_type": "markdown",
   "metadata": {
    "_cell_guid": "664b0cd9-56e8-4a22-9e78-b5bede35194c",
    "_uuid": "e9b663bf2af0a6172bae7e716bd7d4b4cbcf3cc4"
   },
   "source": [
    "I hope the count, mean, min and max rows are self explanatory for you. Be aware of the fact, that all null values are ignored here (count of total_bedrooms is 20,433 not 20,640). The std row shows you the standard deviation, which quantifies the amount of variation between the values. The 25%, 50%, 75% are the percentiles. For an example 75% of the districts have housing_median_age of lower than 37 while 50% are lower than 29 and 25% are lower than 18. These are often called the 25th percentile (or 1st quartile), the median and the 75th percentile (or 3rd quartile).\n",
    "\n",
    "Another good way to explore a given dataset is to plot a histogrom of each numerical attribute. A histogram shows you the number of instances (vertical axes) and the number of the given value range (horizontal axes)"
   ]
  },
  {
   "cell_type": "code",
   "execution_count": 9,
   "metadata": {
    "_cell_guid": "abe6a2ce-7e7b-4e3b-88e6-e9afe761251b",
    "_uuid": "6f1d2724f48dd644a4d732e9e64e4999d76336e4"
   },
   "outputs": [
    {
     "data": {
      "text/plain": [
       "array([[<matplotlib.axes._subplots.AxesSubplot object at 0x114c0dc50>,\n",
       "        <matplotlib.axes._subplots.AxesSubplot object at 0x1149e5a20>,\n",
       "        <matplotlib.axes._subplots.AxesSubplot object at 0x114a22898>],\n",
       "       [<matplotlib.axes._subplots.AxesSubplot object at 0x114a5d898>,\n",
       "        <matplotlib.axes._subplots.AxesSubplot object at 0x114a93898>,\n",
       "        <matplotlib.axes._subplots.AxesSubplot object at 0x114a938d0>],\n",
       "       [<matplotlib.axes._subplots.AxesSubplot object at 0x114b01358>,\n",
       "        <matplotlib.axes._subplots.AxesSubplot object at 0x114b39358>,\n",
       "        <matplotlib.axes._subplots.AxesSubplot object at 0x110e9f278>]], dtype=object)"
      ]
     },
     "execution_count": 9,
     "metadata": {},
     "output_type": "execute_result"
    },
    {
     "data": {
      "image/png": "[encoded data removed]",
      "text/plain": [
       "<matplotlib.figure.Figure at 0x10ead8710>"
      ]
     },
     "metadata": {},
     "output_type": "display_data"
    }
   ],
   "source": [
    "%matplotlib inline\n",
    "housing.hist(bins=50, figsize=(20, 15))"
   ]
  },
  {
   "cell_type": "markdown",
   "metadata": {
    "_cell_guid": "0ea36f7a-b503-4e6d-a79e-6ab7ce0ea0fe",
    "_uuid": "0e08f0a577cd1a5be4e7f28ebd39ac978234a0aa"
   },
   "source": [
    "What you should notice about the histograms above:\n",
    "\n",
    "* The attributes have varying scales, which we will discuss later on in this post.\n",
    "* Many of the histograms are \"tail heavy\" which means that they extend further to the right of the median than to the left which makes it harder for an algortihm to detect patterns. We will transform the later on.\n",
    "* The median_income attribute is not in US Dollar because the data has been scaled and capped at 15.0001 and at 0.4999. This is called a \"preprocessed attribute\" and is common within machine learning, but you should understand how the data was preprocessed.\n",
    "* The housing_median_age and the median_house_value attributes are also capped. That the median_house_value is capped could be a serious problem, because this is your label (what you want to predict) and your model could learn that the price never goes beyond that limit. In this case we only have the option to remove the capped one or to collect the right labels for them.\n",
    "\n"
   ]
  },
  {
   "cell_type": "markdown",
   "metadata": {},
   "source": [
    "<a id='split'></a>"
   ]
  },
  {
   "cell_type": "markdown",
   "metadata": {
    "_cell_guid": "340ad737-3d30-424a-a84d-397e404e27c6",
    "_uuid": "4b3399e428021578725afc4e0deb640911c8a8ab"
   },
   "source": [
    "# Train/Test Split\n",
    "\n",
    "It is important that we now set a part of the data aside. Your brain is an amazing pattern detection system and therefore extremly prune to overfitting. If you would also look at the test set during the visual explaration, which we will do now, you may find some patterns unconsciously within the data, which let you select a particular algorithm that leads to an overfitted model. Because of that you could launch a system that performs not as well on new data than expected.\n",
    "\n",
    "\n",
    "We use the straight forward \"train_test_split()\" method from sklearn to split our data into train and test subsets. For further information you can look at the [documentation](http://scikit-learn.org/stable/modules/generated/sklearn.model_selection.train_test_split.html)."
   ]
  },
  {
   "cell_type": "code",
   "execution_count": 10,
   "metadata": {
    "_cell_guid": "d6b045b4-082e-461a-97c6-24b774889c63",
    "_uuid": "5eb0a7ae42cf906b48cffd64b42c365d7c5383f4"
   },
   "outputs": [
    {
     "name": "stdout",
     "output_type": "stream",
     "text": [
      "16512 Train Instances + 4128 Test Instances\n"
     ]
    }
   ],
   "source": [
    "train_set, test_set = train_test_split(housing, test_size=0.2, random_state=42)\n",
    "print(len(train_set), \"Train Instances +\", len(test_set), \"Test Instances\")"
   ]
  },
  {
   "cell_type": "markdown",
   "metadata": {
    "_cell_guid": "145751be-9210-40b3-abce-633ed1f77685",
    "_uuid": "e06df4e0dfac8b984094cac5f8c1b0909690f587",
    "collapsed": true
   },
   "source": [
    "Now we splitted our data purely random, which is fine if you have a large dataset, but if it is not, you could have a sampling bias. When a company decides to call 10,000 people because of a survey, they want to make sure that these people represent the whole population. For an example the US population consists out of 49% male and 51% female, so a well conducted survey would try to maintain this ratio, which is called **stratified sampling**.  The population is divided into homogeneous subgroups, called **strata** and the right number of instances is sampled from each **stratum** to makes sure that the data really represents the population. \n",
    "\n",
    "Imagine that you talked with real estate experts and they tell you, that the median_icome attribute is very important, when you want to predict housing prices. If that's the case, you want a test set that is really representative of the income categories of the dataset. Because median_income is continous, you need to convert it into a categorical attribute. If you look again at the holograms we analyzed detailed above, you may notice that most median income values are clustered around 20,000 - 50,000 but some go far beyond 60,000. It is very important that you don't have too many strata and that each stratum should have a sufficient number of instances. If this is not the case, the estimate of the stratums importance may be biased and your model could think that a stratum is less important. \n",
    "\n",
    "The code below transforms the median_income attribute into a categorical one by dividing the median income by 1.5 to limit the number of income categories and rounds it up using \"np.ceil()\" to have discrete categories. It merges all the categories that are greater than 5 into category 5. The categories are represented in the histogram below the code."
   ]
  },
  {
   "cell_type": "code",
   "execution_count": 11,
   "metadata": {
    "_cell_guid": "d53ecae1-1a12-437c-8b12-6e1c6df4be27",
    "_uuid": "c13ccd16196c87c7fdfb8f2e9cffec426b7ba541",
    "collapsed": true
   },
   "outputs": [],
   "source": [
    "housing[\"income_categories\"] = np.ceil(housing[\"median_income\"] / 1.5)\n",
    "housing[\"income_categories\"].where(housing[\"income_categories\"] < 5, 5.0, inplace=True)"
   ]
  },
  {
   "cell_type": "code",
   "execution_count": 12,
   "metadata": {
    "_cell_guid": "094d446a-d9bf-4a39-9991-aa0e30baf674",
    "_uuid": "b093861132c2c0e2a1af08c73aa3d74d775a24f3"
   },
   "outputs": [
    {
     "data": {
      "image/png": "[encoded data removed]",
      "text/plain": [
       "<matplotlib.figure.Figure at 0x114e5a668>"
      ]
     },
     "metadata": {},
     "output_type": "display_data"
    }
   ],
   "source": [
    "plt.hist(housing[\"income_categories\"])\n",
    "fig = plt.gcf()\n"
   ]
  },
  {
   "cell_type": "markdown",
   "metadata": {
    "_cell_guid": "5815dac5-5e9c-41d5-85fb-ef6eb14c0627",
    "_uuid": "a6928ef0c5717217cd3f2131b3a253c8df1c23e4"
   },
   "source": [
    "Lats but not least you need to do stratified sampling based on the income categories. You can use sklearn's \"StratifiedShuffleSplit\" class:"
   ]
  },
  {
   "cell_type": "code",
   "execution_count": 13,
   "metadata": {
    "_cell_guid": "01aeb05a-04ea-437b-8eba-c8029ccf7b20",
    "_uuid": "becf62d21a87a344032be9e10475e7f3e1e021b8",
    "collapsed": true
   },
   "outputs": [],
   "source": [
    "from sklearn.model_selection import StratifiedShuffleSplit\n",
    "\n",
    "split = StratifiedShuffleSplit(n_splits=1, test_size=0.2, random_state=42)\n",
    "for train_index, test_index in split.split(housing, housing[\"income_categories\"]):\n",
    "    strat_train_set = housing.loc[train_index]\n",
    "    strat_test_set = housing.loc[test_index]"
   ]
  },
  {
   "cell_type": "markdown",
   "metadata": {
    "_cell_guid": "c784c4d8-9709-4886-9593-c546e697cca0",
    "_uuid": "7b46e4760db044bad7aae73d1bdaea2732cfae84"
   },
   "source": [
    "The code below just generates the table and compares the different sampling types."
   ]
  },
  {
   "cell_type": "code",
   "execution_count": 14,
   "metadata": {
    "_cell_guid": "d6a8b443-b958-45e2-987e-e4165e6849f1",
    "_uuid": "fa0f4a0bcc6cc65d39e0180557c4066b2d309647",
    "collapsed": true
   },
   "outputs": [],
   "source": [
    "def income_categories_proportions(data):\n",
    "    return data[\"income_categories\"].value_counts() / len(data)\n",
    "\n",
    "train_set, test_set = train_test_split(housing, test_size=0.2, random_state=42)\n",
    "\n",
    "compare_props = pd.DataFrame({\n",
    "    \"Overall\": income_categories_proportions(housing),\n",
    "    \"Stratified\": income_categories_proportions(strat_test_set),\n",
    "    \"Random\": income_categories_proportions(test_set),\n",
    "}).sort_index()\n"
   ]
  },
  {
   "cell_type": "code",
   "execution_count": 15,
   "metadata": {
    "_cell_guid": "d9bb91f8-51fc-4b87-b8bc-a77eb7096c04",
    "_uuid": "ebe18d6828da04fb13194fa81250f36f554d83b8"
   },
   "outputs": [
    {
     "data": {
      "text/html": [
       "<div>\n",
       "<style>\n",
       "    .dataframe thead tr:only-child th {\n",
       "        text-align: right;\n",
       "    }\n",
       "\n",
       "    .dataframe thead th {\n",
       "        text-align: left;\n",
       "    }\n",
       "\n",
       "    .dataframe tbody tr th {\n",
       "        vertical-align: top;\n",
       "    }\n",
       "</style>\n",
       "<table border=\"1\" class=\"dataframe\">\n",
       "  <thead>\n",
       "    <tr style=\"text-align: right;\">\n",
       "      <th></th>\n",
       "      <th>Overall</th>\n",
       "      <th>Random</th>\n",
       "      <th>Stratified</th>\n",
       "    </tr>\n",
       "  </thead>\n",
       "  <tbody>\n",
       "    <tr>\n",
       "      <th>1.0</th>\n",
       "      <td>0.039826</td>\n",
       "      <td>0.040213</td>\n",
       "      <td>0.039729</td>\n",
       "    </tr>\n",
       "    <tr>\n",
       "      <th>2.0</th>\n",
       "      <td>0.318847</td>\n",
       "      <td>0.324370</td>\n",
       "      <td>0.318798</td>\n",
       "    </tr>\n",
       "    <tr>\n",
       "      <th>3.0</th>\n",
       "      <td>0.350581</td>\n",
       "      <td>0.358527</td>\n",
       "      <td>0.350533</td>\n",
       "    </tr>\n",
       "    <tr>\n",
       "      <th>4.0</th>\n",
       "      <td>0.176308</td>\n",
       "      <td>0.167393</td>\n",
       "      <td>0.176357</td>\n",
       "    </tr>\n",
       "    <tr>\n",
       "      <th>5.0</th>\n",
       "      <td>0.114438</td>\n",
       "      <td>0.109496</td>\n",
       "      <td>0.114583</td>\n",
       "    </tr>\n",
       "  </tbody>\n",
       "</table>\n",
       "</div>"
      ],
      "text/plain": [
       "      Overall    Random  Stratified\n",
       "1.0  0.039826  0.040213    0.039729\n",
       "2.0  0.318847  0.324370    0.318798\n",
       "3.0  0.350581  0.358527    0.350533\n",
       "4.0  0.176308  0.167393    0.176357\n",
       "5.0  0.114438  0.109496    0.114583"
      ]
     },
     "execution_count": 15,
     "metadata": {},
     "output_type": "execute_result"
    }
   ],
   "source": [
    "compare_props"
   ]
  },
  {
   "cell_type": "markdown",
   "metadata": {
    "_cell_guid": "6a432f0a-9929-4e2f-b071-d6f293ad185e",
    "_uuid": "69f8046e5f4340e7251896eb66f18e435c7f2df2"
   },
   "source": [
    "Now we want to remove the income_categoreis attribute because we don't need it anymore."
   ]
  },
  {
   "cell_type": "code",
   "execution_count": 16,
   "metadata": {
    "_cell_guid": "0e11ebca-3c15-4ebe-a06c-cb462981d4b4",
    "_uuid": "3a7e5f7d7183ef0b3c696976183457ae2146ceef",
    "collapsed": true
   },
   "outputs": [],
   "source": [
    "housing  = housing.drop(['income_categories'], axis=1)"
   ]
  },
  {
   "cell_type": "markdown",
   "metadata": {},
   "source": [
    "<a id='explo'></a>"
   ]
  },
  {
   "cell_type": "markdown",
   "metadata": {
    "_cell_guid": "5228a9b2-8c62-4a54-a022-9d3cbbdcb27d",
    "_uuid": "ecd77ea95758b7f85b6f161c0c213d7f1dfc30f2"
   },
   "source": [
    "# Extensive Data Exploration\n",
    "\n",
    "Now it is time for exploring the data. First of all, we want to visualize the geographical data with latitude and longitude. A good way to do this is to create a scatterplot of all the districts. It is important that you set alpha equal to 0.1, because then the scatterplot has a high density and therefore it is much easier to visualize."
   ]
  },
  {
   "cell_type": "code",
   "execution_count": 17,
   "metadata": {
    "_cell_guid": "21966a98-0cc8-4089-97d4-12f3105a8f64",
    "_uuid": "ce2d50f66c002f902492d379722ddabc274afabf"
   },
   "outputs": [
    {
     "data": {
      "text/plain": [
       "<matplotlib.axes._subplots.AxesSubplot at 0x114e85e48>"
      ]
     },
     "execution_count": 17,
     "metadata": {},
     "output_type": "execute_result"
    },
    {
     "data": {
      "image/png": "[encoded data removed]",
      "text/plain": [
       "<matplotlib.figure.Figure at 0x114b2a9e8>"
      ]
     },
     "metadata": {},
     "output_type": "display_data"
    }
   ],
   "source": [
    "housing.plot(kind=\"scatter\", x=\"longitude\", y=\"latitude\", alpha=0.1)"
   ]
  },
  {
   "cell_type": "markdown",
   "metadata": {
    "_cell_guid": "d736b0dc-f5ba-4657-aadc-d1f8e6d97f41",
    "_uuid": "4c6a62beff2ed8de88604de8565496fbbb96e4f8"
   },
   "source": [
    "If you are fimiliar with California you can clearly see, the high density in the Bay Area, Los Angelos, San Diego and in the Central Valley around Sacramento and Fresno. Our brains are very good at finding patterns on pictures but you often need to play around with the parameters to make the important patterns really stand out.\n",
    "\n",
    "Now we will look at the housing prices at the scatterplot below. The color represents the price and the radius of each circle represents the districts population."
   ]
  },
  {
   "cell_type": "code",
   "execution_count": 18,
   "metadata": {
    "_cell_guid": "195b0445-60a9-4d54-88a1-a450e77a5569",
    "_uuid": "299026b0a3e3840db42cac502ebb1b8f96a03e5b"
   },
   "outputs": [
    {
     "data": {
      "text/plain": [
       "<matplotlib.legend.Legend at 0x1a1f425588>"
      ]
     },
     "execution_count": 18,
     "metadata": {},
     "output_type": "execute_result"
    },
    {
     "data": {
      "image/png": "[encoded data removed]",
      "text/plain": [
       "<matplotlib.figure.Figure at 0x114bbeef0>"
      ]
     },
     "metadata": {},
     "output_type": "display_data"
    }
   ],
   "source": [
    "housing.plot(kind=\"scatter\", x=\"longitude\", y=\"latitude\", alpha=0.4,\n",
    "    s=housing[\"population\"]/100, label=\"population\", figsize=(10,7),\n",
    "    c=\"median_house_value\", cmap=plt.get_cmap(\"jet\"), colorbar=True,\n",
    "    sharex=False)\n",
    "plt.legend()"
   ]
  },
  {
   "cell_type": "markdown",
   "metadata": {
    "_cell_guid": "95789a78-fca9-4014-bb1d-190f1516ea64",
    "_uuid": "b03ad5cc59fff5f1cba1682c75afa056ab3f026f"
   },
   "source": [
    "On the scatterplot we can see, that the housing prices are related to the location (close to the ocean) and to the population density, but we know that the housing prices of costoal districts are not that high in Northern California, so we can't make that rule as simple as that.  "
   ]
  },
  {
   "cell_type": "markdown",
   "metadata": {},
   "source": [
    "<a id='corre'></a>"
   ]
  },
  {
   "cell_type": "markdown",
   "metadata": {},
   "source": [
    "\n",
    "### Searching for Correlations:\n",
    "\n",
    "The housing dataset isn't that large and therefore we can easily compute the correlations between every attribute using the \"corr()\" method. We will start by looking how much each attribute is correlated to the median house value."
   ]
  },
  {
   "cell_type": "code",
   "execution_count": 19,
   "metadata": {
    "_cell_guid": "cc59638c-4994-4446-a64c-ad5b5505f201",
    "_uuid": "2491c4069e9ea2e1033d9a10aa32f81829f6e4bb"
   },
   "outputs": [
    {
     "data": {
      "text/plain": [
       "median_house_value    1.000000\n",
       "median_income         0.688075\n",
       "total_rooms           0.134153\n",
       "housing_median_age    0.105623\n",
       "households            0.065843\n",
       "total_bedrooms        0.049686\n",
       "population           -0.024650\n",
       "longitude            -0.045967\n",
       "latitude             -0.144160\n",
       "Name: median_house_value, dtype: float64"
      ]
     },
     "execution_count": 19,
     "metadata": {},
     "output_type": "execute_result"
    }
   ],
   "source": [
    "correlations = housing.corr()\n",
    "correlations[\"median_house_value\"].sort_values(ascending=False)"
   ]
  },
  {
   "cell_type": "markdown",
   "metadata": {
    "_cell_guid": "e453cbc4-7b97-409f-8e07-d19e32d98729",
    "_uuid": "9258d68633ec5b98a8f67fefac0d3a7a19961e25"
   },
   "source": [
    "The coefficient of the correlation ranges from 1 to -1. The closer it is to 1 the more correlated it is and vice versa.  Correlations that are close to 0, means that there is no correlation, neither negative or positive. You can see that the median_income is correlated the most with the median house value. Because of that, we will generate a more detailed scatterplot below:"
   ]
  },
  {
   "cell_type": "code",
   "execution_count": 20,
   "metadata": {
    "_cell_guid": "0a02380a-7c96-46dd-bb6f-ee828c10ef48",
    "_uuid": "ac969f7b9f57fc87f891e17a4bf3ce78bf77766f"
   },
   "outputs": [
    {
     "data": {
      "text/plain": [
       "<matplotlib.axes._subplots.AxesSubplot at 0x1a1f503b38>"
      ]
     },
     "execution_count": 20,
     "metadata": {},
     "output_type": "execute_result"
    },
    {
     "data": {
      "image/png": "[encoded data removed]",
      "text/plain": [
       "<matplotlib.figure.Figure at 0x1a1f4236a0>"
      ]
     },
     "metadata": {},
     "output_type": "display_data"
    }
   ],
   "source": [
    "housing.plot(kind=\"scatter\", x=\"median_income\", y=\"median_house_value\", alpha=0.1)"
   ]
  },
  {
   "cell_type": "markdown",
   "metadata": {
    "_cell_guid": "ca1bddd0-260e-402c-8e55-c97d78edc45e",
    "_uuid": "841750a90fdeeb986e0e04dc49ec0f84bf191a63"
   },
   "source": [
    "The scatterplot reveals, that the correlation is indeed very strong because we can clearly see an upward trend and the points are not to dispersed. We can also clearly see the price-cap, we talked about earlier, at 500 000 as a horizontal line. Other less obvious lines are around 450 000, 350 000 and 280 000. We may have to remove the corresponding districts to prevent the model from learning to reproduce these data faults. \n",
    "\n",
    "I hope that the previous explanation and visulizations made you more comfortable with the concepts of exploring data to gain insights. We identified a few very important faults in the data that we need to clean up before we can put the data into the machine learning model, that we will build later on. We also found some interesting correlations between the different attributes and we recognized the tail-heavy distribution, that we will also clean up later on. Of course a lot of things are different at every project you will work on, but the general guidelines will be the same and therefore you now already have a good understanding of some of those guidelines. \n",
    "\n",
    "Before we now actually prepare the data to fed it into the model, we should think about combinating a few attributes. For example, the number of rooms within a district is of course not very helpful, if you don't know how many households are within that district. You want the number of roms per household. The number of bedrooms isn't that helpful for the same reason, but it would make sense to compare it with the total number of rooms within a household. Also the population per household would be an interesting attribute. I will create these new attributes in the code below and then we will look at the correlation matrix again."
   ]
  },
  {
   "cell_type": "code",
   "execution_count": 21,
   "metadata": {
    "_cell_guid": "eac6f05d-4568-4ca4-a46e-7ff086b62c2f",
    "_uuid": "e368da3928bbf5468ae625ab4f7a828945f2d649",
    "collapsed": true
   },
   "outputs": [],
   "source": [
    "housing[\"rooms_per_household\"] = housing[\"total_rooms\"]/housing[\"households\"]\n",
    "housing[\"bedrooms_per_room\"] = housing[\"total_bedrooms\"]/housing[\"total_rooms\"]\n",
    "housing[\"population_per_household\"]=housing[\"population\"]/housing[\"households\"]"
   ]
  },
  {
   "cell_type": "code",
   "execution_count": 22,
   "metadata": {
    "_cell_guid": "f2e63821-0d29-4fc2-b594-c3fcab1943bf",
    "_uuid": "2f5f333e0da6931df9a73c176dcc1e7de6516587"
   },
   "outputs": [
    {
     "data": {
      "text/plain": [
       "median_house_value          1.000000\n",
       "median_income               0.688075\n",
       "rooms_per_household         0.151948\n",
       "total_rooms                 0.134153\n",
       "housing_median_age          0.105623\n",
       "households                  0.065843\n",
       "total_bedrooms              0.049686\n",
       "population_per_household   -0.023737\n",
       "population                 -0.024650\n",
       "longitude                  -0.045967\n",
       "latitude                   -0.144160\n",
       "bedrooms_per_room          -0.255880\n",
       "Name: median_house_value, dtype: float64"
      ]
     },
     "execution_count": 22,
     "metadata": {},
     "output_type": "execute_result"
    }
   ],
   "source": [
    "corr_matrix = housing.corr()\n",
    "corr_matrix[\"median_house_value\"].sort_values(ascending=False)"
   ]
  },
  {
   "cell_type": "markdown",
   "metadata": {
    "_cell_guid": "42f4cea0-499f-4480-9d6b-6d91e400f9fc",
    "_uuid": "c65d667cd148dc626c697e7821a8e3e961b663bb"
   },
   "source": [
    "Now we see, that the bedrooms_per_room attribute is more correlated with the median house value than the total number of rooms or bedrooms. Houses with a lower bedroom/room ratio tend to be more expensive. The rooms_per_household attribute is also better than the total number of rooms in a district. Obviously the larger the house, the higher the price.\n",
    "\n",
    "The part of exploring the data does not have to be fully thorough and accurated. The reason why we do it, is to gain a few important insights, that we can use when we build our model. Building proper Machine Learning models is a very iterative process, which means you gain some insights, build a model and then you try to gain more insights and update the model that it works better and so on. You will continue to do this, till you reached a satisfying accuracy and will probably try out several algorithms and paratemer adjustments on your way."
   ]
  },
  {
   "cell_type": "markdown",
   "metadata": {
    "_cell_guid": "99700f05-7bb5-4152-bc2c-d65d89ea2f49",
    "_uuid": "88282eed403c15f5efd7bcbca13c236c2d526aed"
   },
   "source": [
    "<a id='prep'></a>"
   ]
  },
  {
   "cell_type": "markdown",
   "metadata": {
    "_cell_guid": "aefd5a9d-3542-4a97-a8df-6b1f85ac892f",
    "_uuid": "b6fcf8279e5c379fc1a1e697ffe322211922f284"
   },
   "source": [
    "# Data Preparation\n",
    "\n",
    "Now it is time to prepare the data so that our model can process it. We will write functions that do this instead of doing it manually. The reason for this is, that you can reuse these on a new dataset and at new projects you will work on. But first, let's revert to a clean training set by copying start_train_set and let's separate the predictors and the labels since we don't necessarily want to apply the same tranformations to the predictors and the target values."
   ]
  },
  {
   "cell_type": "code",
   "execution_count": 23,
   "metadata": {
    "_cell_guid": "2ff0a247-2391-43ee-96a1-79f40e1e6cb4",
    "_uuid": "c4ef4efd75b37051101d159606a53c8193bb6bac",
    "collapsed": true
   },
   "outputs": [],
   "source": [
    "housing = strat_train_set.drop(\"median_house_value\", axis=1) # drop labels for training set\n",
    "housing_labels = strat_train_set[\"median_house_value\"].copy()"
   ]
  },
  {
   "cell_type": "markdown",
   "metadata": {
    "_cell_guid": "3a24b48a-fcfd-44be-a401-3fb8ecf727c3",
    "_uuid": "81fcf6453c16fe41636d918f35d920525dca8105"
   },
   "source": [
    "We noticed earlier that the total_bedrooms attribute has some missing values. Most Machine Learning algorithms can't work with datasets that have missing values. \n",
    "\n",
    "There are 3 ways to solve this problem:\n",
    "\n",
    "1.) You could remove the whole attribute\n",
    "\n",
    "2.) You could get rid of the districts that contain missing values.\n",
    "\n",
    "3.) You could replace them with zeros, the median or the mean\n",
    "\n",
    "We chose option 3 and will compute the median on the training set. Sklearn provides you with \"Imputer\" to do this. You first need to specify an Imputer instance, that specifies that you want to replace each attributes missing values with the median of that attribute. Because the median can only be computed on numerical attributes, we need to make a copy of the data without the ocean_proximity attribute that contains text and no numbers."
   ]
  },
  {
   "cell_type": "code",
   "execution_count": 24,
   "metadata": {
    "_cell_guid": "3140b527-f0d6-4f09-ab6b-16bc3c0d1019",
    "_uuid": "8052b22a26805ebf055fb9352a333f7b0ce6e4f2",
    "collapsed": true
   },
   "outputs": [],
   "source": [
    "median = housing[\"total_bedrooms\"].median()\n",
    "\n",
    "from sklearn.preprocessing import Imputer\n",
    "\n",
    "imputer = Imputer(strategy=\"median\")\n",
    "\n",
    "housing_num = housing.drop('ocean_proximity', axis=1)"
   ]
  },
  {
   "cell_type": "markdown",
   "metadata": {
    "_cell_guid": "5d810bbc-b433-432c-b5df-d079ff8ca4b1",
    "_uuid": "147fa5bd957cdf9e29cf1c963efd1ec4935ddb61"
   },
   "source": [
    "Now we can fit the Imputer instance to the training data using the \"fit()\" method."
   ]
  },
  {
   "cell_type": "code",
   "execution_count": 25,
   "metadata": {
    "_cell_guid": "ee6c8f05-a663-4b59-aed6-6d698aa97a74",
    "_uuid": "5784bdb13f25d4c4f65b1e0091e4567ccd7255ff"
   },
   "outputs": [
    {
     "data": {
      "text/plain": [
       "Imputer(axis=0, copy=True, missing_values='NaN', strategy='median', verbose=0)"
      ]
     },
     "execution_count": 25,
     "metadata": {},
     "output_type": "execute_result"
    }
   ],
   "source": [
    "imputer.fit(housing_num)"
   ]
  },
  {
   "cell_type": "markdown",
   "metadata": {
    "_cell_guid": "d49f7485-94b4-41dd-906d-a5ccb456e2a8",
    "_uuid": "34153a60b5926f3930bd5ddfbd29fe8d4831dd8e"
   },
   "source": [
    "The imputer has simply computed the median of each attribute and stored the result in the statistics variable. We apllied the imputer to all numerical attributes, because it's safer if your system will go live sometimes.\n",
    "\n",
    "Now we can use the trained imputer to replace the missing values by the learned medians. This results in a plain numpy array but we will transform it back into a pandas dataframe. We will do these 2 steps in the code below."
   ]
  },
  {
   "cell_type": "code",
   "execution_count": 26,
   "metadata": {
    "_cell_guid": "635cd93c-532f-4798-bc7a-0cef5edb77cc",
    "_uuid": "901400f20de5de10fc4cf143d2b67b3f1527e6a9",
    "collapsed": true
   },
   "outputs": [],
   "source": [
    "X = imputer.transform(housing_num)\n",
    "housing_tr = pd.DataFrame(X, columns=housing_num.columns, index = list(housing.index.values))\n",
    "housing_tr  = housing_tr.drop(['income_categories'], axis=1)"
   ]
  },
  {
   "cell_type": "code",
   "execution_count": 27,
   "metadata": {
    "_cell_guid": "3ed2b9fd-0696-4cbd-b6a2-574f4459342d",
    "_uuid": "e921a6ba2e7277335a9fd96025282b1b22488213"
   },
   "outputs": [
    {
     "data": {
      "text/html": [
       "<div>\n",
       "<style>\n",
       "    .dataframe thead tr:only-child th {\n",
       "        text-align: right;\n",
       "    }\n",
       "\n",
       "    .dataframe thead th {\n",
       "        text-align: left;\n",
       "    }\n",
       "\n",
       "    .dataframe tbody tr th {\n",
       "        vertical-align: top;\n",
       "    }\n",
       "</style>\n",
       "<table border=\"1\" class=\"dataframe\">\n",
       "  <thead>\n",
       "    <tr style=\"text-align: right;\">\n",
       "      <th></th>\n",
       "      <th>longitude</th>\n",
       "      <th>latitude</th>\n",
       "      <th>housing_median_age</th>\n",
       "      <th>total_rooms</th>\n",
       "      <th>total_bedrooms</th>\n",
       "      <th>population</th>\n",
       "      <th>households</th>\n",
       "      <th>median_income</th>\n",
       "    </tr>\n",
       "  </thead>\n",
       "  <tbody>\n",
       "    <tr>\n",
       "      <th>4629</th>\n",
       "      <td>-118.30</td>\n",
       "      <td>34.07</td>\n",
       "      <td>18.0</td>\n",
       "      <td>3759.0</td>\n",
       "      <td>433.0</td>\n",
       "      <td>3296.0</td>\n",
       "      <td>1462.0</td>\n",
       "      <td>2.2708</td>\n",
       "    </tr>\n",
       "    <tr>\n",
       "      <th>6068</th>\n",
       "      <td>-117.86</td>\n",
       "      <td>34.01</td>\n",
       "      <td>16.0</td>\n",
       "      <td>4632.0</td>\n",
       "      <td>433.0</td>\n",
       "      <td>3038.0</td>\n",
       "      <td>727.0</td>\n",
       "      <td>5.1762</td>\n",
       "    </tr>\n",
       "    <tr>\n",
       "      <th>17923</th>\n",
       "      <td>-121.97</td>\n",
       "      <td>37.35</td>\n",
       "      <td>30.0</td>\n",
       "      <td>1955.0</td>\n",
       "      <td>433.0</td>\n",
       "      <td>999.0</td>\n",
       "      <td>386.0</td>\n",
       "      <td>4.6328</td>\n",
       "    </tr>\n",
       "    <tr>\n",
       "      <th>13656</th>\n",
       "      <td>-117.30</td>\n",
       "      <td>34.05</td>\n",
       "      <td>6.0</td>\n",
       "      <td>2155.0</td>\n",
       "      <td>433.0</td>\n",
       "      <td>1039.0</td>\n",
       "      <td>391.0</td>\n",
       "      <td>1.6675</td>\n",
       "    </tr>\n",
       "    <tr>\n",
       "      <th>19252</th>\n",
       "      <td>-122.79</td>\n",
       "      <td>38.48</td>\n",
       "      <td>7.0</td>\n",
       "      <td>6837.0</td>\n",
       "      <td>433.0</td>\n",
       "      <td>3468.0</td>\n",
       "      <td>1405.0</td>\n",
       "      <td>3.1662</td>\n",
       "    </tr>\n",
       "  </tbody>\n",
       "</table>\n",
       "</div>"
      ],
      "text/plain": [
       "       longitude  latitude  housing_median_age  total_rooms  total_bedrooms  \\\n",
       "4629     -118.30     34.07                18.0       3759.0           433.0   \n",
       "6068     -117.86     34.01                16.0       4632.0           433.0   \n",
       "17923    -121.97     37.35                30.0       1955.0           433.0   \n",
       "13656    -117.30     34.05                 6.0       2155.0           433.0   \n",
       "19252    -122.79     38.48                 7.0       6837.0           433.0   \n",
       "\n",
       "       population  households  median_income  \n",
       "4629       3296.0      1462.0         2.2708  \n",
       "6068       3038.0       727.0         5.1762  \n",
       "17923       999.0       386.0         4.6328  \n",
       "13656      1039.0       391.0         1.6675  \n",
       "19252      3468.0      1405.0         3.1662  "
      ]
     },
     "execution_count": 27,
     "metadata": {},
     "output_type": "execute_result"
    }
   ],
   "source": [
    "\n",
    "sample_incomplete_rows = housing[housing.isnull().any(axis=1)].head()\n",
    "housing_tr.loc[sample_incomplete_rows.index.values]"
   ]
  },
  {
   "cell_type": "markdown",
   "metadata": {},
   "source": [
    "<a id='categ'></a>"
   ]
  },
  {
   "cell_type": "markdown",
   "metadata": {
    "_cell_guid": "9501dbe4-8a1e-4064-9429-af02eb564c67",
    "_uuid": "4613124b317e8cc1c245d0c9d32fa61393914429"
   },
   "source": [
    "### How to process Categorical Attributes and Text\n",
    "\n",
    "Like I allready mentioned most of the machine learning algorithms can just work with numerical data. The ocean_proximity attribute is still a categorical feature and we will convert it now. We can use Pandas' factorize() method to convert this string categorical feature to an integer categorical feature.\n"
   ]
  },
  {
   "cell_type": "code",
   "execution_count": 28,
   "metadata": {
    "_cell_guid": "be3d19fd-71f0-40ae-b5ad-99cae55d9f79",
    "_uuid": "cb2cf1a14e79870fe7497d3287e32a7ea3282adc"
   },
   "outputs": [
    {
     "data": {
      "text/plain": [
       "array([0, 0, 1, 2, 0, 2, 0, 2, 0, 0])"
      ]
     },
     "execution_count": 28,
     "metadata": {},
     "output_type": "execute_result"
    }
   ],
   "source": [
    "housing_cat = housing['ocean_proximity']\n",
    "housing_cat_encoded, housing_categories = housing_cat.factorize()\n",
    "housing_cat_encoded[:10]"
   ]
  },
  {
   "cell_type": "code",
   "execution_count": 29,
   "metadata": {
    "_cell_guid": "56a47263-86a2-4172-bcfc-04b56b042f13",
    "_uuid": "d7bb8acd1d3bb422931cedbaf4a322c9bd9f5c9a"
   },
   "outputs": [
    {
     "data": {
      "text/plain": [
       "Index(['<1H OCEAN', 'NEAR OCEAN', 'INLAND', 'NEAR BAY', 'ISLAND'], dtype='object')"
      ]
     },
     "execution_count": 29,
     "metadata": {},
     "output_type": "execute_result"
    }
   ],
   "source": [
    "housing_categories"
   ]
  },
  {
   "cell_type": "markdown",
   "metadata": {
    "_cell_guid": "340075ee-9d89-433f-bdd3-d4192db9e937",
    "_uuid": "0ecc4178f097eeecbbc8a1ecd4a7a549a5712716"
   },
   "source": [
    "One issues with this solution is that our algorithm will assume that two nearby values are more similar than two distant values, which is obviously not the case. For axample category 0 and 4 are more similar than categories 0 and 1. A common solution for this problem is to create one binary attribute per category: one attribute equal to 1 when the ctaegory is \"<1H OCEAN\" and 0 otherwise, another attribute equal to 1 when the category is \"INLAND\" and 0 otherwise, and so on. This is called \"one-hot-encoding\", because only one attribute will be equal to 1 (hot) and the others will be 0 (cold). \n",
    "\n",
    "We will do exactly this in the code cell below. We use the OneHotEncoder encoder, that sklearn provides,  to convert numeric categorical values into one-hot vectors. Note that \"fit_transform()\" expects a 2D array but \"housing_cat\" is a 1D array. Therefore we need to reshape it."
   ]
  },
  {
   "cell_type": "code",
   "execution_count": 30,
   "metadata": {
    "_cell_guid": "198d183d-728d-46ea-a59f-289b87b6dc36",
    "_uuid": "d2c108903dc6930444cbcf10d90ed444df66b31f"
   },
   "outputs": [
    {
     "data": {
      "text/plain": [
       "<16512x5 sparse matrix of type '<class 'numpy.float64'>'\n",
       "\twith 16512 stored elements in Compressed Sparse Row format>"
      ]
     },
     "execution_count": 30,
     "metadata": {},
     "output_type": "execute_result"
    }
   ],
   "source": [
    "from sklearn.preprocessing import OneHotEncoder\n",
    "\n",
    "encoder = OneHotEncoder()\n",
    "housing_cat_1hot = encoder.fit_transform(housing_cat_encoded.reshape(-1,1))\n",
    "housing_cat_1hot"
   ]
  },
  {
   "cell_type": "markdown",
   "metadata": {
    "_cell_guid": "0ab71854-2b1b-464a-99e4-9ef4bbc3392e",
    "_uuid": "bc570a35e2523bfb59616774ff33f6cd46c0c00d"
   },
   "source": [
    "The output is a so called **Scipy sparse matrix** and not a numpy array.  A sparse matrix only stores the location of the non zero elements and doesn't stores a matrix full of zeros except for one per row. This saves a lot of memory and is very useful when you have categorical attributes with thousands of categories. For simplicity reasons we want it to be a usual numpy array and therefore we convert it in the code cell below, using the \"toarray()\" method."
   ]
  },
  {
   "cell_type": "code",
   "execution_count": 31,
   "metadata": {
    "_cell_guid": "475af798-ef4e-4c42-a410-d5b13f9a8941",
    "_uuid": "bdd8b86c2ecc5758d9d6316ba4930e7658ee5da1"
   },
   "outputs": [
    {
     "data": {
      "text/plain": [
       "array([[ 1.,  0.,  0.,  0.,  0.],\n",
       "       [ 1.,  0.,  0.,  0.,  0.],\n",
       "       [ 0.,  1.,  0.,  0.,  0.],\n",
       "       ..., \n",
       "       [ 0.,  0.,  1.,  0.,  0.],\n",
       "       [ 1.,  0.,  0.,  0.,  0.],\n",
       "       [ 0.,  0.,  0.,  1.,  0.]])"
      ]
     },
     "execution_count": 31,
     "metadata": {},
     "output_type": "execute_result"
    }
   ],
   "source": [
    "housing_cat_1hot.toarray()"
   ]
  },
  {
   "cell_type": "markdown",
   "metadata": {
    "_cell_guid": "3412f021-1a4f-406c-b33c-782331dee702",
    "_uuid": "307aade2d86e471ff0af3405e52f616c7c764567"
   },
   "source": [
    "Note that there is a way that combines the two steps in one shot ( from categories to integer categories and then from integer categories to one-hot vectors). You can use Scikit-Learn's upcoming CategoricalEncoder class, which will soon be added to Scikit-Learn, and in the meantime you can use the code below (copied from Pull Request #9151 of Aurelien Geron)."
   ]
  },
  {
   "cell_type": "code",
   "execution_count": 32,
   "metadata": {
    "_cell_guid": "72f7fad4-8fdc-4c72-98a2-b04c3df5aa0f",
    "_uuid": "87ddb259aa7906c0638092c8c9acccfb4baf72bb",
    "collapsed": true
   },
   "outputs": [],
   "source": [
    "# copied from PR #9151.\n",
    "# Just run this cell or copy it to your code. You don't need to understand it right now.\n",
    "\n",
    "from sklearn.base import BaseEstimator, TransformerMixin\n",
    "from sklearn.utils import check_array\n",
    "from sklearn.preprocessing import LabelEncoder\n",
    "from scipy import sparse\n",
    "\n",
    "class CategoricalEncoder(BaseEstimator, TransformerMixin):\n",
    "    \"\"\"Encode categorical features as a numeric array.\n",
    "    The input to this transformer should be a matrix of integers or strings,\n",
    "    denoting the values taken on by categorical (discrete) features.\n",
    "    The features can be encoded using a one-hot aka one-of-K scheme\n",
    "    (``encoding='onehot'``, the default) or converted to ordinal integers\n",
    "    (``encoding='ordinal'``).\n",
    "    This encoding is needed for feeding categorical data to many scikit-learn\n",
    "    estimators, notably linear models and SVMs with the standard kernels.\n",
    "    Read more in the :ref:`User Guide <preprocessing_categorical_features>`.\n",
    "    Parameters\n",
    "    ----------\n",
    "    encoding : str, 'onehot', 'onehot-dense' or 'ordinal'\n",
    "        The type of encoding to use (default is 'onehot'):\n",
    "        - 'onehot': encode the features using a one-hot aka one-of-K scheme\n",
    "          (or also called 'dummy' encoding). This creates a binary column for\n",
    "          each category and returns a sparse matrix.\n",
    "        - 'onehot-dense': the same as 'onehot' but returns a dense array\n",
    "          instead of a sparse matrix.\n",
    "        - 'ordinal': encode the features as ordinal integers. This results in\n",
    "          a single column of integers (0 to n_categories - 1) per feature.\n",
    "    categories : 'auto' or a list of lists/arrays of values.\n",
    "        Categories (unique values) per feature:\n",
    "        - 'auto' : Determine categories automatically from the training data.\n",
    "        - list : ``categories[i]`` holds the categories expected in the ith\n",
    "          column. The passed categories are sorted before encoding the data\n",
    "          (used categories can be found in the ``categories_`` attribute).\n",
    "    dtype : number type, default np.float64\n",
    "        Desired dtype of output.\n",
    "    handle_unknown : 'error' (default) or 'ignore'\n",
    "        Whether to raise an error or ignore if a unknown categorical feature is\n",
    "        present during transform (default is to raise). When this is parameter\n",
    "        is set to 'ignore' and an unknown category is encountered during\n",
    "        transform, the resulting one-hot encoded columns for this feature\n",
    "        will be all zeros.\n",
    "        Ignoring unknown categories is not supported for\n",
    "        ``encoding='ordinal'``.\n",
    "    Attributes\n",
    "    ----------\n",
    "    categories_ : list of arrays\n",
    "        The categories of each feature determined during fitting. When\n",
    "        categories were specified manually, this holds the sorted categories\n",
    "        (in order corresponding with output of `transform`).\n",
    "    Examples\n",
    "    --------\n",
    "    Given a dataset with three features and two samples, we let the encoder\n",
    "    find the maximum value per feature and transform the data to a binary\n",
    "    one-hot encoding.\n",
    "    >>> from sklearn.preprocessing import CategoricalEncoder\n",
    "    >>> enc = CategoricalEncoder(handle_unknown='ignore')\n",
    "    >>> enc.fit([[0, 0, 3], [1, 1, 0], [0, 2, 1], [1, 0, 2]])\n",
    "    ... # doctest: +ELLIPSIS\n",
    "    CategoricalEncoder(categories='auto', dtype=<... 'numpy.float64'>,\n",
    "              encoding='onehot', handle_unknown='ignore')\n",
    "    >>> enc.transform([[0, 1, 1], [1, 0, 4]]).toarray()\n",
    "    array([[ 1.,  0.,  0.,  1.,  0.,  0.,  1.,  0.,  0.],\n",
    "           [ 0.,  1.,  1.,  0.,  0.,  0.,  0.,  0.,  0.]])\n",
    "    See also\n",
    "    --------\n",
    "    sklearn.preprocessing.OneHotEncoder : performs a one-hot encoding of\n",
    "      integer ordinal features. The ``OneHotEncoder assumes`` that input\n",
    "      features take on values in the range ``[0, max(feature)]`` instead of\n",
    "      using the unique values.\n",
    "    sklearn.feature_extraction.DictVectorizer : performs a one-hot encoding of\n",
    "      dictionary items (also handles string-valued features).\n",
    "    sklearn.feature_extraction.FeatureHasher : performs an approximate one-hot\n",
    "      encoding of dictionary items or strings.\n",
    "    \"\"\"\n",
    "\n",
    "    def __init__(self, encoding='onehot', categories='auto', dtype=np.float64,\n",
    "                 handle_unknown='error'):\n",
    "        self.encoding = encoding\n",
    "        self.categories = categories\n",
    "        self.dtype = dtype\n",
    "        self.handle_unknown = handle_unknown\n",
    "\n",
    "    def fit(self, X, y=None):\n",
    "        \"\"\"Fit the CategoricalEncoder to X.\n",
    "        Parameters\n",
    "        ----------\n",
    "        X : array-like, shape [n_samples, n_feature]\n",
    "            The data to determine the categories of each feature.\n",
    "        Returns\n",
    "        -------\n",
    "        self\n",
    "        \"\"\"\n",
    "\n",
    "        if self.encoding not in ['onehot', 'onehot-dense', 'ordinal']:\n",
    "            template = (\"encoding should be either 'onehot', 'onehot-dense' \"\n",
    "                        \"or 'ordinal', got %s\")\n",
    "            raise ValueError(template % self.handle_unknown)\n",
    "\n",
    "        if self.handle_unknown not in ['error', 'ignore']:\n",
    "            template = (\"handle_unknown should be either 'error' or \"\n",
    "                        \"'ignore', got %s\")\n",
    "            raise ValueError(template % self.handle_unknown)\n",
    "\n",
    "        if self.encoding == 'ordinal' and self.handle_unknown == 'ignore':\n",
    "            raise ValueError(\"handle_unknown='ignore' is not supported for\"\n",
    "                             \" encoding='ordinal'\")\n",
    "\n",
    "        X = check_array(X, dtype=np.object, accept_sparse='csc', copy=True)\n",
    "        n_samples, n_features = X.shape\n",
    "\n",
    "        self._label_encoders_ = [LabelEncoder() for _ in range(n_features)]\n",
    "\n",
    "        for i in range(n_features):\n",
    "            le = self._label_encoders_[i]\n",
    "            Xi = X[:, i]\n",
    "            if self.categories == 'auto':\n",
    "                le.fit(Xi)\n",
    "            else:\n",
    "                valid_mask = np.in1d(Xi, self.categories[i])\n",
    "                if not np.all(valid_mask):\n",
    "                    if self.handle_unknown == 'error':\n",
    "                        diff = np.unique(Xi[~valid_mask])\n",
    "                        msg = (\"Found unknown categories {0} in column {1}\"\n",
    "                               \" during fit\".format(diff, i))\n",
    "                        raise ValueError(msg)\n",
    "                le.classes_ = np.array(np.sort(self.categories[i]))\n",
    "\n",
    "        self.categories_ = [le.classes_ for le in self._label_encoders_]\n",
    "\n",
    "        return self\n",
    "\n",
    "    def transform(self, X):\n",
    "        \"\"\"Transform X using one-hot encoding.\n",
    "        Parameters\n",
    "        ----------\n",
    "        X : array-like, shape [n_samples, n_features]\n",
    "            The data to encode.\n",
    "        Returns\n",
    "        -------\n",
    "        X_out : sparse matrix or a 2-d array\n",
    "            Transformed input.\n",
    "        \"\"\"\n",
    "        X = check_array(X, accept_sparse='csc', dtype=np.object, copy=True)\n",
    "        n_samples, n_features = X.shape\n",
    "        X_int = np.zeros_like(X, dtype=np.int)\n",
    "        X_mask = np.ones_like(X, dtype=np.bool)\n",
    "\n",
    "        for i in range(n_features):\n",
    "            valid_mask = np.in1d(X[:, i], self.categories_[i])\n",
    "\n",
    "            if not np.all(valid_mask):\n",
    "                if self.handle_unknown == 'error':\n",
    "                    diff = np.unique(X[~valid_mask, i])\n",
    "                    msg = (\"Found unknown categories {0} in column {1}\"\n",
    "                           \" during transform\".format(diff, i))\n",
    "                    raise ValueError(msg)\n",
    "                else:\n",
    "                    # Set the problematic rows to an acceptable value and\n",
    "                    # continue `The rows are marked `X_mask` and will be\n",
    "                    # removed later.\n",
    "                    X_mask[:, i] = valid_mask\n",
    "                    X[:, i][~valid_mask] = self.categories_[i][0]\n",
    "            X_int[:, i] = self._label_encoders_[i].transform(X[:, i])\n",
    "\n",
    "        if self.encoding == 'ordinal':\n",
    "            return X_int.astype(self.dtype, copy=False)\n",
    "\n",
    "        mask = X_mask.ravel()\n",
    "        n_values = [cats.shape[0] for cats in self.categories_]\n",
    "        n_values = np.array([0] + n_values)\n",
    "        indices = np.cumsum(n_values)\n",
    "\n",
    "        column_indices = (X_int + indices[:-1]).ravel()[mask]\n",
    "        row_indices = np.repeat(np.arange(n_samples, dtype=np.int32),\n",
    "                                n_features)[mask]\n",
    "        data = np.ones(n_samples * n_features)[mask]\n",
    "\n",
    "        out = sparse.csc_matrix((data, (row_indices, column_indices)),\n",
    "                                shape=(n_samples, indices[-1]),\n",
    "                                dtype=self.dtype).tocsr()\n",
    "        if self.encoding == 'onehot-dense':\n",
    "            return out.toarray()\n",
    "        else:\n",
    "            return out"
   ]
  },
  {
   "cell_type": "markdown",
   "metadata": {
    "_cell_guid": "c5987945-432d-4046-8bbd-e51b33ad5cff",
    "_uuid": "7e72083e960e4badf8e4c46f5fd534bd8cee5221"
   },
   "source": [
    "The CategoricalEncoder expects a 2D array, containing one or more categorical input features. We need to reshape housing_cat to a 2D array:"
   ]
  },
  {
   "cell_type": "code",
   "execution_count": 33,
   "metadata": {
    "_cell_guid": "b63a9d4f-65fc-46bc-b274-19308c2d4e61",
    "_uuid": "3fd292830950fbd47ad6cc15d0c63d597b332130"
   },
   "outputs": [
    {
     "data": {
      "text/plain": [
       "<16512x5 sparse matrix of type '<class 'numpy.float64'>'\n",
       "\twith 16512 stored elements in Compressed Sparse Row format>"
      ]
     },
     "execution_count": 33,
     "metadata": {},
     "output_type": "execute_result"
    }
   ],
   "source": [
    "cat_encoder = CategoricalEncoder()\n",
    "housing_cat_reshaped = housing_cat.values.reshape(-1, 1)\n",
    "housing_cat_1hot = cat_encoder.fit_transform(housing_cat_reshaped)\n",
    "housing_cat_1hot"
   ]
  },
  {
   "cell_type": "markdown",
   "metadata": {
    "_cell_guid": "7c888e51-b4ad-49f7-afdf-a25843a46d3f",
    "_uuid": "0f907c918b612e7c7ed437ef448ecb89fc91ac88"
   },
   "source": [
    "We use toarray() again to get a dense array:"
   ]
  },
  {
   "cell_type": "code",
   "execution_count": 34,
   "metadata": {
    "_cell_guid": "8eff92bc-7253-418a-90dd-e4d20e678c64",
    "_uuid": "9935fd3baab104cb5d881a44a0ccc8caa09499eb"
   },
   "outputs": [
    {
     "data": {
      "text/plain": [
       "array([[ 1.,  0.,  0.,  0.,  0.],\n",
       "       [ 1.,  0.,  0.,  0.,  0.],\n",
       "       [ 0.,  0.,  0.,  0.,  1.],\n",
       "       ..., \n",
       "       [ 0.,  1.,  0.,  0.,  0.],\n",
       "       [ 1.,  0.,  0.,  0.,  0.],\n",
       "       [ 0.,  0.,  0.,  1.,  0.]])"
      ]
     },
     "execution_count": 34,
     "metadata": {},
     "output_type": "execute_result"
    }
   ],
   "source": [
    "housing_cat_1hot.toarray()"
   ]
  },
  {
   "cell_type": "code",
   "execution_count": 35,
   "metadata": {
    "_cell_guid": "5076a2e0-b19b-4654-bc2e-3bbce01cbeb0",
    "_uuid": "aabe7ef4437f97c88b127ec170e3ace239aa7dd8"
   },
   "outputs": [
    {
     "data": {
      "text/plain": [
       "[array(['<1H OCEAN', 'INLAND', 'ISLAND', 'NEAR BAY', 'NEAR OCEAN'], dtype=object)]"
      ]
     },
     "execution_count": 35,
     "metadata": {},
     "output_type": "execute_result"
    }
   ],
   "source": [
    "cat_encoder.categories_"
   ]
  },
  {
   "cell_type": "markdown",
   "metadata": {},
   "source": [
    "<a id='custom'></a>"
   ]
  },
  {
   "cell_type": "markdown",
   "metadata": {
    "_cell_guid": "93539dfc-1f69-43ae-a337-2d6f29dc78d5",
    "_uuid": "a3018b73f1e63b090cda2dba0165e7fa1ea77bd4"
   },
   "source": [
    "### Custom transfer\n",
    "\n",
    "Sklearn provides us with many different useful built in functions that help us to preprocess data and a lot of other stuff. But you will need to write your own for tasks such as custom cleanup operations or combining specific attributes. You want that the functions you write are working flawless togehter with sklearn functionalities like pipelines for example. Since Sklearn relies on [duck typing](http://davidasboth.com/2016/11/14/duck-typing/), all you need to do is to create a class and implement the three following mehtods: fit(), transform() and fit_transform(). You get the last one simply by adding **TransformerMixin** as a base class. And if you add **BaseEstimator** as a base class, and avoid \"*args\" and \"*kargs\" in your code, you will get two extra methods (get_params() and set_params()), which will we useful to automatically tune your hyperparameters. To illustrate this, I wrote a small transformer class below that adds the combined attributes:"
   ]
  },
  {
   "cell_type": "code",
   "execution_count": 36,
   "metadata": {
    "_cell_guid": "e8b7af42-9e7c-4440-bb45-975a918cfaba",
    "_uuid": "4857801d503f632f6a51d1a08223df4aeed8eea9",
    "collapsed": true
   },
   "outputs": [],
   "source": [
    "from sklearn.base import BaseEstimator, TransformerMixin\n",
    "\n",
    "rooms_ix, bedrooms_ix, population_ix, household_ix = 3, 4, 5, 6\n",
    "\n",
    "class CombinedAttributesAdder(BaseEstimator, TransformerMixin):\n",
    "    def __init__(self, add_bedrooms_per_room = True): \n",
    "        self.add_bedrooms_per_room = add_bedrooms_per_room\n",
    "    def fit(self, X, y=None):\n",
    "        return self  \n",
    "    def transform(self, X, y=None):\n",
    "        rooms_per_household = X[:, rooms_ix] / X[:, household_ix]\n",
    "        population_per_household = X[:, population_ix] / X[:, household_ix]\n",
    "        if self.add_bedrooms_per_room:\n",
    "            bedrooms_per_room = X[:, bedrooms_ix] / X[:, rooms_ix]\n",
    "            return np.c_[X, rooms_per_household, population_per_household,\n",
    "                         bedrooms_per_room]\n",
    "        else:\n",
    "            return np.c_[X, rooms_per_household, population_per_household]\n",
    "\n",
    "attr_adder = CombinedAttributesAdder(add_bedrooms_per_room=False)\n",
    "housing_extra_attribs = attr_adder.transform(housing.values)"
   ]
  },
  {
   "cell_type": "code",
   "execution_count": 37,
   "metadata": {
    "_cell_guid": "f8c9148c-e699-4c6c-b2da-2f83f92f53e3",
    "_uuid": "41185ec11a15179e37cc6763712efea7537c0ee9"
   },
   "outputs": [
    {
     "data": {
      "text/html": [
       "<div>\n",
       "<style>\n",
       "    .dataframe thead tr:only-child th {\n",
       "        text-align: right;\n",
       "    }\n",
       "\n",
       "    .dataframe thead th {\n",
       "        text-align: left;\n",
       "    }\n",
       "\n",
       "    .dataframe tbody tr th {\n",
       "        vertical-align: top;\n",
       "    }\n",
       "</style>\n",
       "<table border=\"1\" class=\"dataframe\">\n",
       "  <thead>\n",
       "    <tr style=\"text-align: right;\">\n",
       "      <th></th>\n",
       "      <th>longitude</th>\n",
       "      <th>latitude</th>\n",
       "      <th>housing_median_age</th>\n",
       "      <th>total_rooms</th>\n",
       "      <th>total_bedrooms</th>\n",
       "      <th>population</th>\n",
       "      <th>households</th>\n",
       "      <th>median_income</th>\n",
       "      <th>ocean_proximity</th>\n",
       "      <th>income_categories</th>\n",
       "      <th>rooms_per_household</th>\n",
       "      <th>population_per_household</th>\n",
       "    </tr>\n",
       "  </thead>\n",
       "  <tbody>\n",
       "    <tr>\n",
       "      <th>0</th>\n",
       "      <td>-121.89</td>\n",
       "      <td>37.29</td>\n",
       "      <td>38</td>\n",
       "      <td>1568</td>\n",
       "      <td>351</td>\n",
       "      <td>710</td>\n",
       "      <td>339</td>\n",
       "      <td>2.7042</td>\n",
       "      <td>&lt;1H OCEAN</td>\n",
       "      <td>2</td>\n",
       "      <td>4.62537</td>\n",
       "      <td>2.0944</td>\n",
       "    </tr>\n",
       "    <tr>\n",
       "      <th>1</th>\n",
       "      <td>-121.93</td>\n",
       "      <td>37.05</td>\n",
       "      <td>14</td>\n",
       "      <td>679</td>\n",
       "      <td>108</td>\n",
       "      <td>306</td>\n",
       "      <td>113</td>\n",
       "      <td>6.4214</td>\n",
       "      <td>&lt;1H OCEAN</td>\n",
       "      <td>5</td>\n",
       "      <td>6.00885</td>\n",
       "      <td>2.70796</td>\n",
       "    </tr>\n",
       "    <tr>\n",
       "      <th>2</th>\n",
       "      <td>-117.2</td>\n",
       "      <td>32.77</td>\n",
       "      <td>31</td>\n",
       "      <td>1952</td>\n",
       "      <td>471</td>\n",
       "      <td>936</td>\n",
       "      <td>462</td>\n",
       "      <td>2.8621</td>\n",
       "      <td>NEAR OCEAN</td>\n",
       "      <td>2</td>\n",
       "      <td>4.22511</td>\n",
       "      <td>2.02597</td>\n",
       "    </tr>\n",
       "    <tr>\n",
       "      <th>3</th>\n",
       "      <td>-119.61</td>\n",
       "      <td>36.31</td>\n",
       "      <td>25</td>\n",
       "      <td>1847</td>\n",
       "      <td>371</td>\n",
       "      <td>1460</td>\n",
       "      <td>353</td>\n",
       "      <td>1.8839</td>\n",
       "      <td>INLAND</td>\n",
       "      <td>2</td>\n",
       "      <td>5.23229</td>\n",
       "      <td>4.13598</td>\n",
       "    </tr>\n",
       "    <tr>\n",
       "      <th>4</th>\n",
       "      <td>-118.59</td>\n",
       "      <td>34.23</td>\n",
       "      <td>17</td>\n",
       "      <td>6592</td>\n",
       "      <td>1525</td>\n",
       "      <td>4459</td>\n",
       "      <td>1463</td>\n",
       "      <td>3.0347</td>\n",
       "      <td>&lt;1H OCEAN</td>\n",
       "      <td>3</td>\n",
       "      <td>4.50581</td>\n",
       "      <td>3.04785</td>\n",
       "    </tr>\n",
       "  </tbody>\n",
       "</table>\n",
       "</div>"
      ],
      "text/plain": [
       "  longitude latitude housing_median_age total_rooms total_bedrooms population  \\\n",
       "0   -121.89    37.29                 38        1568            351        710   \n",
       "1   -121.93    37.05                 14         679            108        306   \n",
       "2    -117.2    32.77                 31        1952            471        936   \n",
       "3   -119.61    36.31                 25        1847            371       1460   \n",
       "4   -118.59    34.23                 17        6592           1525       4459   \n",
       "\n",
       "  households median_income ocean_proximity income_categories  \\\n",
       "0        339        2.7042       <1H OCEAN                 2   \n",
       "1        113        6.4214       <1H OCEAN                 5   \n",
       "2        462        2.8621      NEAR OCEAN                 2   \n",
       "3        353        1.8839          INLAND                 2   \n",
       "4       1463        3.0347       <1H OCEAN                 3   \n",
       "\n",
       "  rooms_per_household population_per_household  \n",
       "0             4.62537                   2.0944  \n",
       "1             6.00885                  2.70796  \n",
       "2             4.22511                  2.02597  \n",
       "3             5.23229                  4.13598  \n",
       "4             4.50581                  3.04785  "
      ]
     },
     "execution_count": 37,
     "metadata": {},
     "output_type": "execute_result"
    }
   ],
   "source": [
    "housing_extra_attribs = pd.DataFrame(housing_extra_attribs, columns=list(housing.columns)+[\"rooms_per_household\", \"population_per_household\"])\n",
    "housing_extra_attribs.head()"
   ]
  },
  {
   "cell_type": "markdown",
   "metadata": {
    "_cell_guid": "9ded6ce5-818a-4ff5-9f8f-512afa067c88",
    "_uuid": "c42a4d4390d49f1ca50a4797f91f19b3bc11fa79"
   },
   "source": [
    "Here the transformer has one hyperparameter, which is set to true by default and allows you to easily find out whether adding this attribute helps the machine learning model or not. You can add any hyperparameter to gate any data preparation step you are not sure about. The more you automate the data prepration steps, the more combinations you can try out, which therefore makes it much more likely that you find a great one and save a lot of time."
   ]
  },
  {
   "cell_type": "markdown",
   "metadata": {},
   "source": [
    "<a id='scale'></a>"
   ]
  },
  {
   "cell_type": "markdown",
   "metadata": {
    "_cell_guid": "32e6535f-2445-4478-b5f1-64512ae9397e",
    "_uuid": "0e99fdfc72779ce61fd20e80a1a7ff40b564dc4c"
   },
   "source": [
    "### Feature Scaling\n",
    "\n",
    "Feature scaling is one of the most important transformations you need to apply, since nearly all machine learning algorithms perform bad when the input numerical attributes have widely varying scales, which is the case at our current dataset. For example, the median incomes range from o to 15, but the total number of rooms from 6 to 39,320. Note that scaling the target values is not required.\n",
    "\n",
    "There are two common ways:\n",
    "\n",
    "**1.) min-max scaling**\n",
    "\n",
    "**2.) standardization**\n",
    "\n",
    "With min-max sclaing the values are shifted and rescaled that they range from 0 to 1. This can be done by subtracting the **min value** and dividing by the **max** minus the **min**. Sklearn's  transformer called **MinMaxScaler**, which has a feature_range hyperparameter, that let's you change the range to whatever you want to (instead of 0 to 1), can do this for you. \n",
    "\n",
    "Standardization subtracts the mean value and divides it by the variance. It does not bound the values into a specific range, which can be good or bad. Neural Networks for example often need input values that range from 0 to1. The good thing is, that standardization is less effected by outliers. If for example, you suppose a district has a median income of 100 (by mistake), min-max scaling would would map the values that range from 0 to 15 down to 0 to 0.15, whereas standardization would give you a much more accurate outcome. With sklearn you can do standardization with the **StandardScaler** tramsformer. And always just do transformations with the training set only, to prevent overfitting. "
   ]
  },
  {
   "cell_type": "markdown",
   "metadata": {},
   "source": [
    "<a id='pipe'></a>"
   ]
  },
  {
   "cell_type": "markdown",
   "metadata": {
    "_cell_guid": "d13eee6b-d0c5-4f02-a935-9570eebc4e19",
    "_uuid": "2f49c34d87f5e7f3b351dd41041a3ff2e7c4283e"
   },
   "source": [
    "### Pipelines for tranformation\n",
    "\n",
    "There are a lot of data tranformation steps that also need to be done in the right order. To help you with that, sklearn provides the **Pipeline** class. In the code below, you can see a small pipeline of attributes:"
   ]
  },
  {
   "cell_type": "code",
   "execution_count": 38,
   "metadata": {
    "_cell_guid": "22d3b112-d96b-4cca-8e06-2467a1b75ed5",
    "_uuid": "583d9f30e29693244e74f37564f7ccad5ec7413a",
    "collapsed": true
   },
   "outputs": [],
   "source": [
    "from sklearn.pipeline import Pipeline\n",
    "from sklearn.preprocessing import StandardScaler\n",
    "\n",
    "num_pipeline = Pipeline([\n",
    "        ('imputer', Imputer(strategy=\"median\")),\n",
    "        ('attribs_adder', CombinedAttributesAdder()),\n",
    "        ('std_scaler', StandardScaler()),\n",
    "    ])\n",
    "\n",
    "housing_num_tr = num_pipeline.fit_transform(housing_num)"
   ]
  },
  {
   "cell_type": "code",
   "execution_count": 39,
   "metadata": {
    "_cell_guid": "42977775-382e-491f-924c-b43ad6a3355b",
    "_uuid": "0f4ca41f8eefb6457945bc4f1a3dc555218da03b"
   },
   "outputs": [
    {
     "data": {
      "text/plain": [
       "array([[-1.15604281,  0.77194962,  0.74333089, ..., -0.31205452,\n",
       "        -0.08649871,  0.15531753],\n",
       "       [-1.17602483,  0.6596948 , -1.1653172 , ...,  0.21768338,\n",
       "        -0.03353391, -0.83628902],\n",
       "       [ 1.18684903, -1.34218285,  0.18664186, ..., -0.46531516,\n",
       "        -0.09240499,  0.4222004 ],\n",
       "       ..., \n",
       "       [ 1.58648943, -0.72478134, -1.56295222, ...,  0.3469342 ,\n",
       "        -0.03055414, -0.52177644],\n",
       "       [ 0.78221312, -0.85106801,  0.18664186, ...,  0.02499488,\n",
       "         0.06150916, -0.30340741],\n",
       "       [-1.43579109,  0.99645926,  1.85670895, ..., -0.22852947,\n",
       "        -0.09586294,  0.10180567]])"
      ]
     },
     "execution_count": 39,
     "metadata": {},
     "output_type": "execute_result"
    }
   ],
   "source": [
    "housing_num_tr"
   ]
  },
  {
   "cell_type": "markdown",
   "metadata": {
    "_cell_guid": "516966e7-d290-4308-936f-3f0e2040475e",
    "_uuid": "721f45e58e2d10455574af4d9549baba7cdf11bb"
   },
   "source": [
    "The Pipeline constructor takes a list of name/estimator pairs, which define a sequence of steps. Note that all instead of the last estimator must be transformers, which means that they must have a fit_transform() method.  Also note that if you call the pipelines fit() method, it calls fit_transform() on all transformers. In our example, the last estimator is a StandardScaler (for standardization), so the pipeline has a transform() method that applies all the transform to the data in sequence. \n",
    "\n",
    "Now it would be nice if we could feed a Pandas DataFrame directly into our pipeline, instead of having to first manually extract the numerical columns into a NumPy array. Unfortunately sklearn provides nothing that does this for us, so we have to write it by ourself:"
   ]
  },
  {
   "cell_type": "code",
   "execution_count": 40,
   "metadata": {
    "_cell_guid": "c50fc2f1-ab30-4f0f-8e1f-6de508dc88c7",
    "_uuid": "5da733d528a5cef71d62479043321bf060d5904b",
    "collapsed": true
   },
   "outputs": [],
   "source": [
    "from sklearn.base import BaseEstimator, TransformerMixin\n",
    "\n",
    "class DataFrameSelector(BaseEstimator, TransformerMixin):\n",
    "    def __init__(self, attribute_names):\n",
    "        self.attribute_names = attribute_names\n",
    "    def fit(self, X, y=None):\n",
    "        return self\n",
    "    def transform(self, X):\n",
    "        return X[self.attribute_names].values"
   ]
  },
  {
   "cell_type": "markdown",
   "metadata": {
    "_cell_guid": "3459f693-b61e-4872-89a3-16b3d9437e1a",
    "_uuid": "b1ace1f620365a8b9b89284f8725ea7b8299c575"
   },
   "source": [
    "This will tranform our data by selecting the desired attributes, dropping the others and converting the resulting dataframe into a NumPy array. With this in mind you can easily write a pipeline that takes a Pandas dataframe and handle only the numerical values. Just start the pipeline with a **DataFrameSelector** to pick only the numerical attributes. And you can just as easily write another one for the categorical attributes, by simply selecting categorical attributes using a **DataFrameSelector** and then applying a **LabelBinarizer**."
   ]
  },
  {
   "cell_type": "code",
   "execution_count": 41,
   "metadata": {
    "_cell_guid": "55f536e3-8e73-41de-a1f4-e8ac1aae0e04",
    "_uuid": "da1d634421e100d5f26cff578a71102da279e645",
    "collapsed": true
   },
   "outputs": [],
   "source": [
    "num_attribs = list(housing_num)\n",
    "cat_attribs = [\"ocean_proximity\"]\n",
    "\n",
    "num_pipeline = Pipeline([\n",
    "        ('selector', DataFrameSelector(num_attribs)),\n",
    "        ('imputer', Imputer(strategy=\"median\")),\n",
    "        ('attribs_adder', CombinedAttributesAdder()),\n",
    "        ('std_scaler', StandardScaler()),\n",
    "    ])\n",
    "\n",
    "cat_pipeline = Pipeline([\n",
    "        ('selector', DataFrameSelector(cat_attribs)),\n",
    "        ('cat_encoder', CategoricalEncoder(encoding=\"onehot-dense\")),\n",
    "    ])"
   ]
  },
  {
   "cell_type": "markdown",
   "metadata": {
    "_cell_guid": "46a11875-7c21-4f69-8915-513d753c6522",
    "_uuid": "7a14b2a724aa5af46558004cfebcc85fe192257e"
   },
   "source": [
    "But there is also a way to join these two pipelines into a single pipeline, using sklearns **FeatureUnion**. You can give it a list of transformer-pipelines. A complete pipeline that handles numerical and categorical attributes looks like this:"
   ]
  },
  {
   "cell_type": "code",
   "execution_count": 42,
   "metadata": {
    "_cell_guid": "cee7c2f1-38dc-4e6f-a527-43a8a5e0c5c4",
    "_uuid": "7ca5540c4d8f862b8d91312e4f1b107c03430b53",
    "collapsed": true
   },
   "outputs": [],
   "source": [
    "from sklearn.pipeline import FeatureUnion\n",
    "\n",
    "full_pipeline = FeatureUnion(transformer_list=[\n",
    "        (\"num_pipeline\", num_pipeline),\n",
    "        (\"cat_pipeline\", cat_pipeline),\n",
    "    ])"
   ]
  },
  {
   "cell_type": "markdown",
   "metadata": {
    "_cell_guid": "25fd1373-968d-408a-97e3-fb7a9fffaffd",
    "_uuid": "4b4b0fa9f9100530af1323c90d815e4ee1d4f375"
   },
   "source": [
    "The code below runs the whole pipeline:"
   ]
  },
  {
   "cell_type": "code",
   "execution_count": 43,
   "metadata": {
    "_cell_guid": "0078dc3a-82dc-4548-8d5d-0a4a94a5bba9",
    "_uuid": "a8a6ca6f2ee6fe8ffc473f5ea80226c6f6513514"
   },
   "outputs": [
    {
     "data": {
      "text/plain": [
       "array([[-1.15604281,  0.77194962,  0.74333089, ...,  0.        ,\n",
       "         0.        ,  0.        ],\n",
       "       [-1.17602483,  0.6596948 , -1.1653172 , ...,  0.        ,\n",
       "         0.        ,  0.        ],\n",
       "       [ 1.18684903, -1.34218285,  0.18664186, ...,  0.        ,\n",
       "         0.        ,  1.        ],\n",
       "       ..., \n",
       "       [ 1.58648943, -0.72478134, -1.56295222, ...,  0.        ,\n",
       "         0.        ,  0.        ],\n",
       "       [ 0.78221312, -0.85106801,  0.18664186, ...,  0.        ,\n",
       "         0.        ,  0.        ],\n",
       "       [-1.43579109,  0.99645926,  1.85670895, ...,  0.        ,\n",
       "         1.        ,  0.        ]])"
      ]
     },
     "execution_count": 43,
     "metadata": {},
     "output_type": "execute_result"
    }
   ],
   "source": [
    "housing_prepared = full_pipeline.fit_transform(housing)\n",
    "housing_prepared"
   ]
  },
  {
   "cell_type": "markdown",
   "metadata": {
    "_cell_guid": "a8354675-fff1-4e54-997c-ffc83ed6c15d",
    "_uuid": "45afd75232073cfd44cbb9947e6c0577217a0eac"
   },
   "source": [
    "<a id='train'></a>"
   ]
  },
  {
   "cell_type": "markdown",
   "metadata": {
    "_cell_guid": "832d8138-38a0-4289-900b-68e6f0323308",
    "_uuid": "291cce033be3d5c2f9a56648fb6a97139f6072ac"
   },
   "source": [
    "# Train Models\n",
    "\n",
    "We looked at the big picture of your problem and framed it, we explored and visualized the data and preprocessed it. Now it is time to select and train a Machine Learning model. The hard part were the previous steps. What we do now, is going to be much simpler and easier.\n",
    "\n",
    "First, let's test whether a Linear Regression model gives us a satisfying result:"
   ]
  },
  {
   "cell_type": "code",
   "execution_count": 44,
   "metadata": {
    "_cell_guid": "45e9e929-2891-4eb3-820b-af5097baaa5e",
    "_uuid": "89d71dd1adb221b3b641a88b722d3ab8b3edd1db"
   },
   "outputs": [
    {
     "data": {
      "text/plain": [
       "LinearRegression(copy_X=True, fit_intercept=True, n_jobs=1, normalize=False)"
      ]
     },
     "execution_count": 44,
     "metadata": {},
     "output_type": "execute_result"
    }
   ],
   "source": [
    "from sklearn.linear_model import LinearRegression\n",
    "\n",
    "lin_reg = LinearRegression()\n",
    "lin_reg.fit(housing_prepared, housing_labels)"
   ]
  },
  {
   "cell_type": "markdown",
   "metadata": {
    "_cell_guid": "446a26cf-63ec-4a59-98b4-52f9f7e30ca1",
    "_uuid": "0cda946bd4d1ae544a875f46de6cb3b981c651be"
   },
   "source": [
    "Let's try it out on the training set:"
   ]
  },
  {
   "cell_type": "code",
   "execution_count": 45,
   "metadata": {
    "_cell_guid": "55302166-c96f-4ac6-90fc-837e8022d433",
    "_uuid": "73d4afe9ec9801303c2074838e9bdb98b33807d5"
   },
   "outputs": [
    {
     "name": "stdout",
     "output_type": "stream",
     "text": [
      "Predictions: [ 203682.37379543  326371.39370781  204218.64588245   58685.4770482\n",
      "  194213.06443039]\n"
     ]
    }
   ],
   "source": [
    "some_data = housing.iloc[:5]\n",
    "some_labels = housing_labels.iloc[:5]\n",
    "some_data_prepared = full_pipeline.transform(some_data)\n",
    "\n",
    "print(\"Predictions:\", lin_reg.predict(some_data_prepared))"
   ]
  },
  {
   "cell_type": "code",
   "execution_count": 46,
   "metadata": {
    "_cell_guid": "c9e63f21-1ec7-43e7-97fb-f6677f6958e4",
    "_uuid": "a2e27e117fd8b35ff367410bcfbbb395dc6c01c8"
   },
   "outputs": [
    {
     "name": "stdout",
     "output_type": "stream",
     "text": [
      "Labels: [286600.0, 340600.0, 196900.0, 46300.0, 254500.0]\n"
     ]
    }
   ],
   "source": [
    "print(\"Labels:\", list(some_labels))"
   ]
  },
  {
   "cell_type": "markdown",
   "metadata": {
    "_cell_guid": "1871b2e3-59cd-441c-b84b-56cf826c3d70",
    "_uuid": "585c5b83d4060e3f43e8d9369f52d737667ee758"
   },
   "source": [
    "Let's use [RMSE (Root Mean Squared Error)](http://www.statisticshowto.com/rmse/) to judge the quality of our predictions:"
   ]
  },
  {
   "cell_type": "code",
   "execution_count": 47,
   "metadata": {
    "_cell_guid": "af680258-93ae-4463-92c1-a6d5a5417ea2",
    "_uuid": "295d543d6a5027fc050567dafd08b8e1dda0bab7"
   },
   "outputs": [
    {
     "data": {
      "text/plain": [
       "68376.642954599374"
      ]
     },
     "execution_count": 47,
     "metadata": {},
     "output_type": "execute_result"
    }
   ],
   "source": [
    "from sklearn.metrics import mean_squared_error\n",
    "\n",
    "housing_predictions = lin_reg.predict(housing_prepared)\n",
    "lin_mse = mean_squared_error(housing_labels, housing_predictions)\n",
    "lin_rmse = np.sqrt(lin_mse)\n",
    "lin_rmse"
   ]
  },
  {
   "cell_type": "markdown",
   "metadata": {
    "_cell_guid": "5dada588-2f5e-413e-91f3-9c26a55a9823",
    "_uuid": "e01e74ae47d5f458e3638d72b60b03679b09219c"
   },
   "source": [
    "This is clearly not a great score. Since most districts median_housing_values range between 120,000 and 265,000 dollar, a prediction erro of $68,376 is not very satisfying and also an example of a model underfitting the data. This either means that the features do not provide  enough information to make proper predictions, or that the model is just not powerful enough.\n",
    "\n",
    "\n",
    "The main ways to fix underfitting are:\n",
    "\n",
    "1.) feed the model with better features\n",
    "\n",
    "2.) select a more powerful model\n",
    "\n",
    "3.) reduce the constraints on the model\n",
    "\n",
    "\n",
    "First let's try out a more powerful model since we just only tested one."
   ]
  },
  {
   "cell_type": "markdown",
   "metadata": {
    "_cell_guid": "35d4334a-ec83-42fd-ad13-53bbc32dbf50",
    "_uuid": "c1b6320853f924538978e88895d1ce9e5ad8ece1"
   },
   "source": [
    "Let's use a DecisionTreeRegressor, which can find complex nonlinear relationships in the data:"
   ]
  },
  {
   "cell_type": "code",
   "execution_count": 48,
   "metadata": {
    "_cell_guid": "a964cbab-baa4-4878-9e1f-8222d3bc8fde",
    "_uuid": "9146b7f3909466b8008718b7687ed98971d35218"
   },
   "outputs": [
    {
     "data": {
      "text/plain": [
       "DecisionTreeRegressor(criterion='mse', max_depth=None, max_features=None,\n",
       "           max_leaf_nodes=None, min_impurity_decrease=0.0,\n",
       "           min_impurity_split=None, min_samples_leaf=1,\n",
       "           min_samples_split=2, min_weight_fraction_leaf=0.0,\n",
       "           presort=False, random_state=42, splitter='best')"
      ]
     },
     "execution_count": 48,
     "metadata": {},
     "output_type": "execute_result"
    }
   ],
   "source": [
    "from sklearn.tree import DecisionTreeRegressor\n",
    "\n",
    "tree_reg = DecisionTreeRegressor(random_state=42)\n",
    "tree_reg.fit(housing_prepared, housing_labels)"
   ]
  },
  {
   "cell_type": "markdown",
   "metadata": {
    "_cell_guid": "973b0725-cce5-43e6-8be7-2d5a24aa1d26",
    "_uuid": "de4510ba8497a6e968d847c45641e2665fa4c932"
   },
   "source": [
    "Let's try it out on the training set:"
   ]
  },
  {
   "cell_type": "code",
   "execution_count": 49,
   "metadata": {
    "_cell_guid": "4ea7c153-689b-451e-9a16-0e7ebd37e146",
    "_uuid": "e9206d446ceef3a47464531fb5be3b0c3c73c744"
   },
   "outputs": [
    {
     "data": {
      "text/plain": [
       "0.0"
      ]
     },
     "execution_count": 49,
     "metadata": {},
     "output_type": "execute_result"
    }
   ],
   "source": [
    "housing_predictions = tree_reg.predict(housing_prepared)\n",
    "tree_mse = mean_squared_error(housing_labels, housing_predictions)\n",
    "tree_rmse = np.sqrt(tree_mse)\n",
    "tree_rmse"
   ]
  },
  {
   "cell_type": "markdown",
   "metadata": {
    "_cell_guid": "b01f8b5d-7346-40c4-80ec-d027a20a4df1",
    "_uuid": "6ce1c963be18b578b1bd6b5118b78033285fdf30"
   },
   "source": [
    "This gives you no error at all, which means that we strongly overfitted our data. How can we be sure ? As we allready discussed earlier, you don't want to use the test set until you are confident about your model. But how can we test how our model performs if we can't use the test data ? One way to do this is using **K-Fold Cross-Validation**, which uses part of the training set for training and a part for validation. The following code randomly splits the training set into 10 subset called **folds**. Then it trains and evaluates 10 times, using every fold once for either training or validation:"
   ]
  },
  {
   "cell_type": "code",
   "execution_count": 50,
   "metadata": {
    "_cell_guid": "09b2032d-162e-4e34-8d15-161023d593c6",
    "_uuid": "2c56d86357bf1e0734605c41d7feaf426e420f72",
    "collapsed": true
   },
   "outputs": [],
   "source": [
    "from sklearn.model_selection import cross_val_score\n",
    "\n",
    "scores = cross_val_score(tree_reg, housing_prepared, housing_labels,\n",
    "                         scoring=\"neg_mean_squared_error\", cv=10)\n",
    "tree_rmse_scores = np.sqrt(-scores)"
   ]
  },
  {
   "cell_type": "markdown",
   "metadata": {
    "_cell_guid": "17da0dc6-764b-4a17-82b2-450851dc62f0",
    "_uuid": "f52859334863993e13a5e837d3b83da5ddcecbc2"
   },
   "source": [
    "Let's look at the result:"
   ]
  },
  {
   "cell_type": "code",
   "execution_count": 51,
   "metadata": {
    "_cell_guid": "5e8b2180-d92b-4b45-b684-87dd52ca99b8",
    "_uuid": "dda1a1dac00f76e624d06d24a9371264a61b69ce"
   },
   "outputs": [
    {
     "name": "stdout",
     "output_type": "stream",
     "text": [
      "Scores: [ 70307.54079165  67270.94561829  71361.89886493  68889.91784739\n",
      "  70992.94150631  74140.66907294  70607.72083897  70576.13836762\n",
      "  76433.16342183  70270.96266671]\n",
      "Mean: 71085.1898997\n",
      "Standard deviation: 2431.96102969\n"
     ]
    }
   ],
   "source": [
    "def display_scores(scores):\n",
    "    print(\"Scores:\", scores)\n",
    "    print(\"Mean:\", scores.mean())\n",
    "    print(\"Standard deviation:\", scores.std())\n",
    "\n",
    "display_scores(tree_rmse_scores)"
   ]
  },
  {
   "cell_type": "markdown",
   "metadata": {
    "_cell_guid": "3efada63-547d-4713-84ca-e34a90aa53b6",
    "_uuid": "4667df44f910c4e6c59e00aac96a47ee6fc47c1d"
   },
   "source": [
    "Now we have a real estimate of how the decision tree performs. In fact, it does even perform worse than our previous linear regression model.\n",
    "Note that cross validation not only gives you an estimate of your models performance, but also of how precise this estimate is (standard deviation). Here we have a prediction error of 71,085 dollar. The standard deviation is 2,431 Dollar, which means that our prediction error could be $2,431 more or less.\n",
    "\n",
    "Now let's compute the scores for our linear regression model again, but using K-Fold Cross-Validation:"
   ]
  },
  {
   "cell_type": "code",
   "execution_count": 52,
   "metadata": {
    "_cell_guid": "90ff6617-e614-4049-8509-80880478f1b0",
    "_uuid": "d608fb205e09c007c6437f14274c891acf8bff2b"
   },
   "outputs": [
    {
     "name": "stdout",
     "output_type": "stream",
     "text": [
      "Scores: [ 66877.52325028  66608.120256    70575.91118868  74179.94799352\n",
      "  67683.32205678  71103.16843468  64782.65896552  67711.29940352\n",
      "  71080.40484136  67687.6384546 ]\n",
      "Mean: 68828.9994845\n",
      "Standard deviation: 2662.76157061\n"
     ]
    }
   ],
   "source": [
    "lin_scores = cross_val_score(lin_reg, housing_prepared, housing_labels,\n",
    "                             scoring=\"neg_mean_squared_error\", cv=10)\n",
    "lin_rmse_scores = np.sqrt(-lin_scores)\n",
    "display_scores(lin_rmse_scores)"
   ]
  },
  {
   "cell_type": "markdown",
   "metadata": {
    "_cell_guid": "8929efac-fcfb-4b4e-8784-22f60ccf8627",
    "_uuid": "c7f97ea61372686c35a978fc0faaf7ba7eaff028"
   },
   "source": [
    "Now we defenitely know that our decision tree model is overfitting and performs worse than our linear regression model. Now let's try one last model, the RandomForestRegressor. Random Forest works by training many Decision Trees on random subsets of the features and then it averages their predictions. Building a model on top of other models is called **Essemble Learning** and often pushes Machine Learning algortihms further."
   ]
  },
  {
   "cell_type": "code",
   "execution_count": 53,
   "metadata": {
    "_cell_guid": "19058264-5b31-44eb-b626-6cbc180e907b",
    "_uuid": "795c25750fb3a77ada89b37f01497bac425c4db3"
   },
   "outputs": [
    {
     "data": {
      "text/plain": [
       "RandomForestRegressor(bootstrap=True, criterion='mse', max_depth=None,\n",
       "           max_features='auto', max_leaf_nodes=None,\n",
       "           min_impurity_decrease=0.0, min_impurity_split=None,\n",
       "           min_samples_leaf=1, min_samples_split=2,\n",
       "           min_weight_fraction_leaf=0.0, n_estimators=10, n_jobs=1,\n",
       "           oob_score=False, random_state=42, verbose=0, warm_start=False)"
      ]
     },
     "execution_count": 53,
     "metadata": {},
     "output_type": "execute_result"
    }
   ],
   "source": [
    "from sklearn.ensemble import RandomForestRegressor\n",
    "\n",
    "forest_reg = RandomForestRegressor(random_state=42)\n",
    "forest_reg.fit(housing_prepared, housing_labels)"
   ]
  },
  {
   "cell_type": "code",
   "execution_count": 54,
   "metadata": {
    "_cell_guid": "c1dc128f-706a-4f38-a4ae-d09f7b05c6c4",
    "_uuid": "b9ce122250dd136b035b3ca743d068f4ca2861e7"
   },
   "outputs": [
    {
     "data": {
      "text/plain": [
       "22112.540875989125"
      ]
     },
     "execution_count": 54,
     "metadata": {},
     "output_type": "execute_result"
    }
   ],
   "source": [
    "housing_predictions = forest_reg.predict(housing_prepared)\n",
    "forest_mse = mean_squared_error(housing_labels, housing_predictions)\n",
    "forest_rmse = np.sqrt(forest_mse)\n",
    "forest_rmse"
   ]
  },
  {
   "cell_type": "code",
   "execution_count": 55,
   "metadata": {
    "_cell_guid": "19a5dd39-e489-4ca7-88f2-6f3c168d447d",
    "_uuid": "6c8d83fe4836948c129cc8ea04f5c0cf54675e07"
   },
   "outputs": [
    {
     "name": "stdout",
     "output_type": "stream",
     "text": [
      "Scores: [ 51513.5500248   48821.99364978  53451.63889205  54910.55855153\n",
      "  50405.68166817  56772.90691171  51909.21824137  50516.14893695\n",
      "  55699.80788403  53107.7805515 ]\n",
      "Mean: 52710.9285312\n",
      "Standard deviation: 2414.72717912\n"
     ]
    }
   ],
   "source": [
    "forest_scores = cross_val_score(forest_reg, housing_prepared, housing_labels,\n",
    "                                scoring=\"neg_mean_squared_error\", cv=10)\n",
    "forest_rmse_scores = np.sqrt(-forest_scores)\n",
    "display_scores(forest_rmse_scores)"
   ]
  },
  {
   "cell_type": "markdown",
   "metadata": {
    "_cell_guid": "f642f6f6-c0e8-4491-81cc-3c4c46346fef",
    "_uuid": "f40651bacad031fbefde0736d5e6f211578d8bd3"
   },
   "source": [
    "This is a lot better. Note that the score on the training set is still much lower, than on the validation set, which indicates that the model is overfitting the training set and that we should optimize the model to solve this problem. However, you shouldn't fine tune a model too much before you haven't tried out various other machine learning models from different categories of algorithms, without spending to much time tweaking it. You could use different Support Vector Machines with different Kernels, maybe a neural network and so on. The goal is that you have a rough estimate about, what algorithms performs the best and then you should spent time fine tuning them for a better accuracy. Note that you should save every model you tested using pythons [pickle](https://wiki.python.org/moin/UsingPickle) module or sklearn [joblib](http://scikit-learn.org/stable/modules/model_persistence.html)."
   ]
  },
  {
   "cell_type": "markdown",
   "metadata": {
    "_cell_guid": "b954133c-f963-49be-908c-f32ec6470d10",
    "_uuid": "c0e7c69fad1c82da547d467824406c05ed286b99"
   },
   "source": [
    "<a id='tune'></a>"
   ]
  },
  {
   "cell_type": "markdown",
   "metadata": {
    "_cell_guid": "ad5b5c4c-2693-483b-bb7d-97aa1f5efacc",
    "_uuid": "3a609c52cbbac2c7f98762f90077bdba7a759e3a"
   },
   "source": [
    "# Fine Tuning\n",
    "\n",
    "Now let's assume you played around with different algorithms and have a rough estimate over the best performing ones. We will now look at Grid Search as an example to fine tune your model.\n",
    "\n",
    "\n",
    "### Grid Search\n",
    "Instead of trying out different hyperparametrs manually until you find some great combinations, you can let Grid Search do that for you. All you need to do is tell it which hyperparameters you want to experiment with and what values. The code below searches for the best combination of hyperparameter values for the RandomForestRegressor: "
   ]
  },
  {
   "cell_type": "code",
   "execution_count": 56,
   "metadata": {
    "_cell_guid": "86f21756-80c7-4287-ace3-093b46a14867",
    "_uuid": "e5fc2ff148232897dbb4b00e87e526ad5ac47bae"
   },
   "outputs": [
    {
     "data": {
      "text/plain": [
       "GridSearchCV(cv=5, error_score='raise',\n",
       "       estimator=RandomForestRegressor(bootstrap=True, criterion='mse', max_depth=None,\n",
       "           max_features='auto', max_leaf_nodes=None,\n",
       "           min_impurity_decrease=0.0, min_impurity_split=None,\n",
       "           min_samples_leaf=1, min_samples_split=2,\n",
       "           min_weight_fraction_leaf=0.0, n_estimators=10, n_jobs=1,\n",
       "           oob_score=False, random_state=42, verbose=0, warm_start=False),\n",
       "       fit_params=None, iid=True, n_jobs=1,\n",
       "       param_grid=[{'n_estimators': [3, 10, 30], 'max_features': [2, 4, 6, 8]}, {'bootstrap': [False], 'n_estimators': [3, 10], 'max_features': [2, 3, 4]}],\n",
       "       pre_dispatch='2*n_jobs', refit=True, return_train_score='warn',\n",
       "       scoring='neg_mean_squared_error', verbose=0)"
      ]
     },
     "execution_count": 56,
     "metadata": {},
     "output_type": "execute_result"
    }
   ],
   "source": [
    "from sklearn.model_selection import GridSearchCV\n",
    "\n",
    "param_grid = [\n",
    "    {'n_estimators': [3, 10, 30], 'max_features': [2, 4, 6, 8]},\n",
    "    {'bootstrap': [False], 'n_estimators': [3, 10], 'max_features': [2, 3, 4]},\n",
    "  ]\n",
    "\n",
    "forest_reg = RandomForestRegressor(random_state=42)\n",
    "grid_search = GridSearchCV(forest_reg, param_grid, cv=5,\n",
    "                           scoring='neg_mean_squared_error')\n",
    "grid_search.fit(housing_prepared, housing_labels)"
   ]
  },
  {
   "cell_type": "code",
   "execution_count": 57,
   "metadata": {
    "_cell_guid": "6d0b2082-3813-4ade-8ed6-517b07349e62",
    "_uuid": "a8b09592912609ceaf7db150caef258eb89c7b7b"
   },
   "outputs": [
    {
     "data": {
      "text/plain": [
       "{'max_features': 6, 'n_estimators': 30}"
      ]
     },
     "execution_count": 57,
     "metadata": {},
     "output_type": "execute_result"
    }
   ],
   "source": [
    "grid_search.best_params_"
   ]
  },
  {
   "cell_type": "markdown",
   "metadata": {
    "_cell_guid": "282c3026-b195-4791-b0f8-19c0752a53d7",
    "_uuid": "b7cb87b4bf6a7e476a37f35fbcba8cdb7d1dd667"
   },
   "source": [
    "This tells us that the best solution would be by setting the max_features to 8 and the n_estimators to 30."
   ]
  },
  {
   "cell_type": "code",
   "execution_count": 58,
   "metadata": {
    "_cell_guid": "8204b052-a95b-4488-aeb3-2e24d2a2125b",
    "_uuid": "5446afb99fc2c7aab51253832dc6a887db6bbd4e"
   },
   "outputs": [
    {
     "name": "stdout",
     "output_type": "stream",
     "text": [
      "64265.8521009 {'max_features': 2, 'n_estimators': 3}\n",
      "55882.9848402 {'max_features': 2, 'n_estimators': 10}\n",
      "53472.5297705 {'max_features': 2, 'n_estimators': 30}\n",
      "61320.6172102 {'max_features': 4, 'n_estimators': 3}\n",
      "53834.6661703 {'max_features': 4, 'n_estimators': 10}\n",
      "51273.2598733 {'max_features': 4, 'n_estimators': 30}\n",
      "59851.1600773 {'max_features': 6, 'n_estimators': 3}\n",
      "53108.4926792 {'max_features': 6, 'n_estimators': 10}\n",
      "50804.4906775 {'max_features': 6, 'n_estimators': 30}\n",
      "59225.2197785 {'max_features': 8, 'n_estimators': 3}\n",
      "52883.782581 {'max_features': 8, 'n_estimators': 10}\n",
      "50942.1591379 {'max_features': 8, 'n_estimators': 30}\n",
      "62801.357247 {'bootstrap': False, 'max_features': 2, 'n_estimators': 3}\n",
      "54452.7056215 {'bootstrap': False, 'max_features': 2, 'n_estimators': 10}\n",
      "61122.9494918 {'bootstrap': False, 'max_features': 3, 'n_estimators': 3}\n",
      "53014.3329645 {'bootstrap': False, 'max_features': 3, 'n_estimators': 10}\n",
      "60252.6537668 {'bootstrap': False, 'max_features': 4, 'n_estimators': 3}\n",
      "52716.5505964 {'bootstrap': False, 'max_features': 4, 'n_estimators': 10}\n"
     ]
    }
   ],
   "source": [
    "cvres = grid_search.cv_results_\n",
    "for mean_score, params in zip(cvres[\"mean_test_score\"], cvres[\"params\"]):\n",
    "    print(np.sqrt(-mean_score), params)"
   ]
  },
  {
   "cell_type": "markdown",
   "metadata": {
    "_cell_guid": "a8f530b5-53af-45e6-a8cd-243e3232002f",
    "_uuid": "9f467d653b4eae6b5916e57aa96ef666588e1ea5"
   },
   "source": [
    "The RMSE score for this combinationis 50,804. Now you have succesfully fine tuned your model ! Alternatives to Grid Search would be [Randomized Search](http://scikit-learn.org/stable/modules/generated/sklearn.model_selection.RandomizedSearchCV.html) (good for exploring many hyperparamter combinations) and [Ensemble Methods](https://www.toptal.com/machine-learning/ensemble-methods-machine-learning). "
   ]
  },
  {
   "cell_type": "markdown",
   "metadata": {
    "_cell_guid": "09641c86-26a5-4bdd-8e0c-adf3f7988ed4",
    "_uuid": "d8126e40e896953613eeb434b9d6c097823cc70d"
   },
   "source": [
    "<a id='evaluation'></a>"
   ]
  },
  {
   "cell_type": "markdown",
   "metadata": {
    "_cell_guid": "dbc1f83f-d67e-4ffb-aade-789de04593bd",
    "_uuid": "37b1e04219808f343f0d889fcb1a29c2d706df96"
   },
   "source": [
    "# Evaluation\n",
    "\n",
    "Now we can evaluate the final model on the test set. You just have to get the labels from your test set, run your full_pipeline to transform the data and eveluate the model:"
   ]
  },
  {
   "cell_type": "code",
   "execution_count": 59,
   "metadata": {
    "_cell_guid": "a1ab9cbc-b6f5-4843-a31a-4d08b1902dd2",
    "_uuid": "e747dc4169c852cd315f8495ccf69f728fd553b3",
    "collapsed": true
   },
   "outputs": [],
   "source": [
    "final_model = grid_search.best_estimator_\n",
    "\n",
    "X_test = strat_test_set.drop(\"median_house_value\", axis=1)\n",
    "y_test = strat_test_set[\"median_house_value\"].copy()\n",
    "\n",
    "X_test_prepared = full_pipeline.transform(X_test)\n",
    "final_predictions = final_model.predict(X_test_prepared)\n",
    "\n",
    "final_mse = mean_squared_error(y_test, final_predictions)\n",
    "final_rmse = np.sqrt(final_mse)"
   ]
  },
  {
   "cell_type": "code",
   "execution_count": 60,
   "metadata": {
    "_cell_guid": "d00aced3-0abe-4f4c-aede-0d7cb9471ee9",
    "_uuid": "caca5a23be93bfc7f57cf519660e640401590bf2"
   },
   "outputs": [
    {
     "data": {
      "text/plain": [
       "49036.586427241818"
      ]
     },
     "execution_count": 60,
     "metadata": {},
     "output_type": "execute_result"
    }
   ],
   "source": [
    "final_rmse"
   ]
  },
  {
   "cell_type": "markdown",
   "metadata": {
    "_cell_guid": "1aa96c68-538c-4f9b-a3ee-cd19dc56bb49",
    "_uuid": "0b01cbed6b058c05cadf6d045e6819ab02f36a1b"
   },
   "source": [
    "We now have a final prediciton error of $49,036 and learned a lot of things on the way. Note that usually the performance on the test set is slightly worse, because your system is fine tuned to perform well on the training set. \n",
    "\n",
    "Hopefully all of this gave you a good idea of what a machine learning project looks like and a blueprint for you to build great systems in the future. As I already mentioned, most of the work has to be done before you select and train an algorithm. Note that it is propably better to know four or five machine learning algorithms very well rather than spending all your time exploring advanced algorithms and not enough time on the overall process."
   ]
  },
  {
   "cell_type": "markdown",
   "metadata": {},
   "source": [
    "<a id='summary'></a>"
   ]
  },
  {
   "cell_type": "markdown",
   "metadata": {},
   "source": [
    "# Summary\n",
    "\n",
    "Now we have a pretty good understanding of how supervised regression works and learned a massive amout of things on the way.\n",
    "\n",
    "We learned how to frame a problem, plot histograms & draw conclusions from it, split data into training & testing subsets and what tailheavyness is & how to solve it. \n",
    "\n",
    "We now know why stratified sampling can be very important and we used it on the income_categories feature, after we created it. We also plotted scatterplots, computed a correlation coefficient table, discussed scaled & capped features and even wrote functions for feature engineering. \n",
    "\n",
    "In terms of data preparation, we talked about missing values and filled some. We processed categorical attributes and text, using One hot encoding and reshaped arrays along the way. We did some feature scaling and learned that most machine learning algorithms perform bad, when the input numerical attributes have widely varying scales. \n",
    "\n",
    "Furthermore we used the sklearn pipeline class, joined two pipelines into a single one, used RMSE to evaluate our models and learned a lot about over- and underfitting. \n",
    "\n",
    "On top of that we used K-fold cross validation and tuned our hyperparameters with grid search. \n",
    "\n",
    "Along the project we used a Linear Regression model, a DecisionTreeRegressor and a RandomForestRegressor."
   ]
  }
 ],
 "metadata": {
  "kernelspec": {
   "display_name": "Python 3",
   "language": "python",
   "name": "python3"
  },
  "language_info": {
   "codemirror_mode": {
    "name": "ipython",
    "version": 3
   },
   "file_extension": ".py",
   "mimetype": "text/x-python",
   "name": "python",
   "nbconvert_exporter": "python",
   "pygments_lexer": "ipython3",
   "version": "3.6.3"
  }
 },
 "nbformat": 4,
 "nbformat_minor": 1
}
